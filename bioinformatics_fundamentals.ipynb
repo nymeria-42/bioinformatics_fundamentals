{
 "cells": [
  {
   "cell_type": "markdown",
   "id": "d8b8479c",
   "metadata": {},
   "source": [
    "# Fundamentos de Bioinformática \n",
    "\n",
    "Seguindo a playlist: `https://www.youtube.com/playlist?list=PLbVDKwGpb3XnwBACQ5w8L8NzjZ-6D0M8u`"
   ]
  },
  {
   "cell_type": "markdown",
   "id": "40d0c858",
   "metadata": {},
   "source": [
    "## Importando os módulos necessários"
   ]
  },
  {
   "cell_type": "code",
   "execution_count": 42,
   "id": "ee2eca63-ec04-4d5d-a44f-6551ea01af25",
   "metadata": {},
   "outputs": [],
   "source": [
    "import skbio\n",
    "from skbio.alignment import local_pairwise_align_nucleotide\n",
    "from skbio.alignment import local_pairwise_align_ssw\n",
    "import qiime_default_reference as qdr\n",
    "\n",
    "from scipy.spatial.distance import hamming\n",
    "import pandas as pd \n",
    "import numpy as np\n",
    "import seaborn as sns\n",
    "\n",
    "import functools\n",
    "import collections\n",
    "import timeit\n",
    "import random \n",
    "import time\n",
    "\n",
    "import warnings\n",
    "warnings.filterwarnings('ignore')"
   ]
  },
  {
   "cell_type": "markdown",
   "id": "566de095",
   "metadata": {},
   "source": [
    "## Introdução"
   ]
  },
  {
   "cell_type": "code",
   "execution_count": 10,
   "id": "e78cea65-75c6-4034-86dc-307dcb28f38c",
   "metadata": {},
   "outputs": [],
   "source": [
    "r1 = skbio.Protein(\"MVLSPADKTNVKAAWGKVGAHAGEYGAEALERMFLSFPTTKTYFPHFDLSHGSAQVKGHGKKVADALTNA\\\n",
    "VAHVDDMPNALSALSDLHAHKLRVDPVNFKLLSHCLLVTLAAHLPAEFTPAVHASLDKFLASVSTVLTSKYR\")"
   ]
  },
  {
   "cell_type": "code",
   "execution_count": 11,
   "id": "5881f559-7b1a-4b59-a646-2b1cc6d2415c",
   "metadata": {},
   "outputs": [
    {
     "data": {
      "text/plain": [
       "Protein\n",
       "---------------------------------------------------------------------\n",
       "Stats:\n",
       "    length: 142\n",
       "    has gaps: False\n",
       "    has degenerates: False\n",
       "    has definites: True\n",
       "    has stops: False\n",
       "---------------------------------------------------------------------\n",
       "0   MVLSPADKTN VKAAWGKVGA HAGEYGAEAL ERMFLSFPTT KTYFPHFDLS HGSAQVKGHG\n",
       "60  KKVADALTNA VAHVDDMPNA LSALSDLHAH KLRVDPVNFK LLSHCLLVTL AAHLPAEFTP\n",
       "120 AVHASLDKFL ASVSTVLTSK YR"
      ]
     },
     "execution_count": 11,
     "metadata": {},
     "output_type": "execute_result"
    }
   ],
   "source": [
    "r1"
   ]
  },
  {
   "cell_type": "code",
   "execution_count": 12,
   "id": "e45c37d0-331c-483e-a385-05067e7bff0f",
   "metadata": {},
   "outputs": [],
   "source": [
    "r2 = skbio.Protein(\"MVLSAADKNNVKGIFTKIAGHAEEYGAETLERMFTTYPPTKTYFPHFDLSHGSAQIKGHGKKVVAA\\\n",
    "LIEAANHIDDIAGTLSKLSDLHAHKLRVDPVNFKLLGQCFLVVVAIHHPAALTPEVHASLDKFLCAVGTVLTAKYR\")"
   ]
  },
  {
   "cell_type": "code",
   "execution_count": 13,
   "id": "4564b40e-f6af-466e-8aa3-144079773e87",
   "metadata": {},
   "outputs": [],
   "source": [
    "q1 = skbio.Protein(\"MVLFPADKSNVKATWAKIGNHGAEYGAEALERMFMNFPSTKTYFPHFDL\\\n",
    "GHDSAQVKGHGKKVADALTKAAGHMDNLLDALSDLSDLHAHKLRVDPVNFKLLSHCLLVTLALHLPAEFTPSVHASLDKFLASVSTVLTSKYR\")"
   ]
  },
  {
   "cell_type": "code",
   "execution_count": 14,
   "id": "afc42fbd-49a4-4afc-a89f-d78eda84636d",
   "metadata": {},
   "outputs": [
    {
     "data": {
      "text/plain": [
       "0.2"
      ]
     },
     "execution_count": 14,
     "metadata": {},
     "output_type": "execute_result"
    }
   ],
   "source": [
    "hamming(list('abcde'), list('abcdd')) #20% das posições são diferentes"
   ]
  },
  {
   "cell_type": "code",
   "execution_count": 15,
   "id": "7829dedd-bed0-4a50-8c03-60c383433981",
   "metadata": {},
   "outputs": [
    {
     "data": {
      "text/plain": [
       "0.29577464788732394"
      ]
     },
     "execution_count": 15,
     "metadata": {},
     "output_type": "execute_result"
    }
   ],
   "source": [
    "hamming(r1,r2)"
   ]
  },
  {
   "cell_type": "code",
   "execution_count": 16,
   "id": "3fa9f726-4432-4b04-bd9a-ff5da946bba0",
   "metadata": {},
   "outputs": [
    {
     "data": {
      "text/plain": [
       "0.16901408450704225"
      ]
     },
     "execution_count": 16,
     "metadata": {},
     "output_type": "execute_result"
    }
   ],
   "source": [
    "hamming(r1,q1)"
   ]
  },
  {
   "cell_type": "code",
   "execution_count": 15,
   "id": "2ac51be5-5090-4460-b11c-f674318389c5",
   "metadata": {},
   "outputs": [
    {
     "data": {
      "text/plain": [
       "0.31690140845070425"
      ]
     },
     "execution_count": 15,
     "metadata": {},
     "output_type": "execute_result"
    }
   ],
   "source": [
    "hamming(r2,q1)"
   ]
  },
  {
   "cell_type": "markdown",
   "id": "1fe3fdf1-a7c1-4268-a95c-037e64871264",
   "metadata": {},
   "source": [
    "Sequence query q1 (hemoglobina de baleia) é mais similar a hemoglobina de galinha (r2) do que de humano (r1)"
   ]
  },
  {
   "cell_type": "code",
   "execution_count": 20,
   "id": "1a27aa24-c43e-40be-85ca-bf7a961cf268",
   "metadata": {},
   "outputs": [],
   "source": [
    "q2 = skbio.Protein(\"MLTDAEKKEVTALWGKAAGHGEEYGAEALERLFQAFPTTKTYFSHFDLSHGSAQIKAHGKKVADALSTAAGHFDDMD\\\n",
    "SALSALSDLHAHKLRVDPVNFKLLAHCILVVLARHCPGEFTPSAHAAMDKFLSKVATVLTSKYR-\") #PLATYPUS HEMOGLOBIN"
   ]
  },
  {
   "cell_type": "code",
   "execution_count": 21,
   "id": "8a7e62e0-2694-4735-bd96-3fcb4173216d",
   "metadata": {},
   "outputs": [
    {
     "data": {
      "text/plain": [
       "Protein\n",
       "---------------------------------------------------------------------\n",
       "Stats:\n",
       "    length: 142\n",
       "    has gaps: True\n",
       "    has degenerates: False\n",
       "    has definites: True\n",
       "    has stops: False\n",
       "---------------------------------------------------------------------\n",
       "0   MLTDAEKKEV TALWGKAAGH GEEYGAEALE RLFQAFPTTK TYFSHFDLSH GSAQIKAHGK\n",
       "60  KVADALSTAA GHFDDMDSAL SALSDLHAHK LRVDPVNFKL LAHCILVVLA RHCPGEFTPS\n",
       "120 AHAAMDKFLS KVATVLTSKY R-"
      ]
     },
     "execution_count": 21,
     "metadata": {},
     "output_type": "execute_result"
    }
   ],
   "source": [
    "q2"
   ]
  },
  {
   "cell_type": "code",
   "execution_count": 22,
   "id": "6d6e8fb6-9b02-4807-b73a-e7af1ec476f6",
   "metadata": {},
   "outputs": [
    {
     "data": {
      "text/plain": [
       "0.9084507042253521"
      ]
     },
     "execution_count": 22,
     "metadata": {},
     "output_type": "execute_result"
    }
   ],
   "source": [
    "hamming(r1,q2) # different lenghts"
   ]
  },
  {
   "cell_type": "code",
   "execution_count": 23,
   "id": "1d69230c-f5c3-4c97-b299-5da0f59653f6",
   "metadata": {},
   "outputs": [
    {
     "data": {
      "text/plain": [
       "0.9225352112676056"
      ]
     },
     "execution_count": 23,
     "metadata": {},
     "output_type": "execute_result"
    }
   ],
   "source": [
    "hamming(r2,q2) # different lenghts"
   ]
  },
  {
   "cell_type": "markdown",
   "id": "23496011-365f-4298-b3b8-bf52de89fc25",
   "metadata": {},
   "source": [
    "Nessa abordagem, estamos assumindo que apenas substituições ocorrem no decurso evolutivo das espécies. No entanto, erros de replicação (mutações) podem ocorrer por substituições, inserções (uma ou mais bases são adicionadas a sequência) ou deleções (uma ou mais bases são deletadas da sequência)."
   ]
  },
  {
   "cell_type": "code",
   "execution_count": 24,
   "id": "71c0cbae-5540-41a6-a191-55e00156310f",
   "metadata": {},
   "outputs": [],
   "source": [
    "q2_aligned = skbio.Protein(\"M-LTDAEKKEVTALWGKAAGHGEEYGAEALERLFQAFPTTKTYFSHFDLSHGSAQIKAHGKKVADALSTAAGHFDDMD\\\n",
    "SALSALSDLHAHKLRVDPVNFKLLAHCILVVLARHCPGEFTPSAHAAMDKFLSKVATVLTSKYR\") #PLATYPUS HEMOGLOBIN"
   ]
  },
  {
   "cell_type": "code",
   "execution_count": 25,
   "id": "d7f886d7-5b86-496f-b751-70f70751cee4",
   "metadata": {},
   "outputs": [
    {
     "data": {
      "text/plain": [
       "0.2746478873239437"
      ]
     },
     "execution_count": 25,
     "metadata": {},
     "output_type": "execute_result"
    }
   ],
   "source": [
    "hamming(r1,q2_aligned) "
   ]
  },
  {
   "cell_type": "code",
   "execution_count": 26,
   "id": "21f3212f-5e7a-4327-9bbe-0fd821ef2147",
   "metadata": {},
   "outputs": [
    {
     "data": {
      "text/plain": [
       "0.34507042253521125"
      ]
     },
     "execution_count": 26,
     "metadata": {},
     "output_type": "execute_result"
    }
   ],
   "source": [
    "hamming(r2,q2_aligned) "
   ]
  },
  {
   "cell_type": "markdown",
   "id": "4271c3a9-80dd-4c4e-a9ea-53437beecd37",
   "metadata": {},
   "source": [
    "O percentual de diferença diminui bastante colocando um gap no lugar \"certo\". \n",
    "\n",
    "Quando temos um gap, ao comparar sequências, não conseguimos saber se ocorreu uma deleção ou uma inserção."
   ]
  },
  {
   "cell_type": "code",
   "execution_count": 27,
   "id": "34ee9935-fbf4-4c0a-ba55-2f61ea5d6140",
   "metadata": {},
   "outputs": [
    {
     "data": {
      "text/plain": [
       "86"
      ]
     },
     "execution_count": 27,
     "metadata": {},
     "output_type": "execute_result"
    }
   ],
   "source": [
    "len(\"2PACX-1vRMKfK0UexyEYgy3DrpJTf0914M0-K4CIrmMoBBxOJuziSNwXKQ0xNQQCIb_K2muqgFTBZVyhSSNPI4\")"
   ]
  },
  {
   "cell_type": "markdown",
   "id": "7cc0f846-3fd7-4ab7-adc3-10fe8b1e0c0e",
   "metadata": {},
   "source": [
    "## Alinhamento de sequência usando algoritmos próprios"
   ]
  },
  {
   "cell_type": "code",
   "execution_count": 28,
   "id": "260606a9-6932-408d-a000-194bc9f511a4",
   "metadata": {},
   "outputs": [],
   "source": [
    "seq1 = skbio.DNA(\"GGTCTTCGCTAGGCTTTCATCGGGTTCGGCATCTACTCTGAGTTACTAGG\")\n",
    "seq2 = skbio.DNA(\"GGTCTTCAGGCTTTCATCGGGAACGGCATCTCTGAGTTACTACC\")\n",
    "\n",
    "aln, score, start_end_positions = local_pairwise_align_nucleotide(seq1, seq2, gap_open_penalty = 8, gap_extend_penalty = 1) # usa Smith-Waterman"
   ]
  },
  {
   "cell_type": "code",
   "execution_count": 29,
   "id": "eacf3947-4155-45d8-a5cf-75d823a354d7",
   "metadata": {},
   "outputs": [
    {
     "data": {
      "text/plain": [
       "TabularMSA[DNA]\n",
       "------------------------------------------------\n",
       "Stats:\n",
       "    sequence count: 2\n",
       "    position count: 48\n",
       "------------------------------------------------\n",
       "GGTCTTCGCTAGGCTTTCATCGGGTTCGGCATCTACTCTGAGTTACTA\n",
       "GGTCTTC---AGGCTTTCATCGGGAACGGCATCT---CTGAGTTACTA"
      ]
     },
     "execution_count": 29,
     "metadata": {},
     "output_type": "execute_result"
    }
   ],
   "source": [
    "aln"
   ]
  },
  {
   "cell_type": "code",
   "execution_count": 30,
   "id": "b6b9c1e5-ff9e-429c-8ffd-77340cc53f78",
   "metadata": {},
   "outputs": [
    {
     "data": {
      "text/plain": [
       "54.0"
      ]
     },
     "execution_count": 30,
     "metadata": {},
     "output_type": "execute_result"
    }
   ],
   "source": [
    "score"
   ]
  },
  {
   "cell_type": "code",
   "execution_count": 31,
   "id": "460c0cf9-ea48-4c43-9ad3-062b4f31c371",
   "metadata": {},
   "outputs": [
    {
     "name": "stdout",
     "output_type": "stream",
     "text": [
      "70.2 ms ± 1.71 ms per loop (mean ± std. dev. of 7 runs, 10 loops each)\n"
     ]
    }
   ],
   "source": [
    "%timeit local_pairwise_align_nucleotide(seq1, seq2, gap_open_penalty = 8, gap_extend_penalty = 1)"
   ]
  },
  {
   "cell_type": "code",
   "execution_count": 32,
   "id": "95a35ce9-1140-4229-8b42-e6e52a38c165",
   "metadata": {},
   "outputs": [
    {
     "name": "stdout",
     "output_type": "stream",
     "text": [
      "263 µs ± 4.11 µs per loop (mean ± std. dev. of 7 runs, 1,000 loops each)\n"
     ]
    }
   ],
   "source": [
    "%timeit local_pairwise_align_ssw(seq1, seq2) #funcao otimizada, implementada em Cpp"
   ]
  },
  {
   "cell_type": "markdown",
   "id": "721adfe5-c99f-40da-8b56-61ea821ee2b5",
   "metadata": {},
   "source": [
    "## Multiple Sequence Alignment (MSA)"
   ]
  },
  {
   "cell_type": "code",
   "execution_count": 33,
   "id": "9d10f8a5-08d7-4483-b719-8f67aab5635a",
   "metadata": {},
   "outputs": [
    {
     "data": {
      "text/plain": [
       "TabularMSA[DNA]\n",
       "------------------------------------------------\n",
       "Stats:\n",
       "    sequence count: 2\n",
       "    position count: 48\n",
       "------------------------------------------------\n",
       "GGTCTTCGCTAGGCTTTCATCGGGTTCGGCATCTACTCTGAGTTACTA\n",
       "GGTCTTC---AGGCTTTCATCGGGAACGGCATCT---CTGAGTTACTA"
      ]
     },
     "execution_count": 33,
     "metadata": {},
     "output_type": "execute_result"
    }
   ],
   "source": [
    "msa, _, _ = local_pairwise_align_nucleotide(seq1, seq2, gap_open_penalty = 8, gap_extend_penalty = 1)\n",
    "msa"
   ]
  },
  {
   "cell_type": "code",
   "execution_count": 34,
   "id": "9aa41c63-5e71-477c-9bc8-212bad7053a9",
   "metadata": {},
   "outputs": [
    {
     "data": {
      "text/plain": [
       "TabularMSA[DNA]\n",
       "------------------------------------------------\n",
       "Stats:\n",
       "    sequence count: 2\n",
       "    position count: 48\n",
       "------------------------------------------------\n",
       "GGTCTTCGCTAGGCTTTCATCGGGTTCGGCATCTACTCTGAGTTACTA\n",
       "GGTCTTC---AGGCTTTCATCGGGAACGGCAT---CTCTGAGTTACTA"
      ]
     },
     "execution_count": 34,
     "metadata": {},
     "output_type": "execute_result"
    }
   ],
   "source": [
    "msa, _, _ = local_pairwise_align_ssw(seq1, seq2)\n",
    "msa"
   ]
  },
  {
   "cell_type": "code",
   "execution_count": 35,
   "id": "47942e76-766d-4b4c-afe8-9b2c6fe36c8d",
   "metadata": {},
   "outputs": [],
   "source": [
    "def random_sequence(moltype, length):\n",
    "    result = []\n",
    "    # Our \"alphabet\" here will consist of the standard characters in a molecules alphabet\n",
    "    alphabet = list(moltype.nondegenerate_chars)\n",
    "    for e in range(length):\n",
    "        result.append(np.random.choice(alphabet))\n",
    "    return moltype(''.join(result))"
   ]
  },
  {
   "cell_type": "code",
   "execution_count": 36,
   "id": "6096129d-fcc1-45a2-846e-b9cecdaeaa89",
   "metadata": {},
   "outputs": [
    {
     "data": {
      "text/plain": [
       "{'A', 'C', 'G', 'T'}"
      ]
     },
     "execution_count": 36,
     "metadata": {},
     "output_type": "execute_result"
    }
   ],
   "source": [
    "skbio.DNA.nondegenerate_chars"
   ]
  },
  {
   "cell_type": "code",
   "execution_count": 37,
   "id": "b499e377-0a5d-4509-9a3d-90f538932308",
   "metadata": {},
   "outputs": [
    {
     "data": {
      "text/plain": [
       "{'A',\n",
       " 'C',\n",
       " 'D',\n",
       " 'E',\n",
       " 'F',\n",
       " 'G',\n",
       " 'H',\n",
       " 'I',\n",
       " 'K',\n",
       " 'L',\n",
       " 'M',\n",
       " 'N',\n",
       " 'O',\n",
       " 'P',\n",
       " 'Q',\n",
       " 'R',\n",
       " 'S',\n",
       " 'T',\n",
       " 'U',\n",
       " 'V',\n",
       " 'W',\n",
       " 'Y'}"
      ]
     },
     "execution_count": 37,
     "metadata": {},
     "output_type": "execute_result"
    }
   ],
   "source": [
    "skbio.Protein.nondegenerate_chars"
   ]
  },
  {
   "cell_type": "code",
   "execution_count": 38,
   "id": "0b9e1a30-e158-459f-9896-e2aa379e9e56",
   "metadata": {},
   "outputs": [
    {
     "name": "stdout",
     "output_type": "stream",
     "text": [
      "AGATACACTA\n",
      "GTTTACTTTT\n",
      "TGCGAGAGGGATACCACAGCTTGTTCCCTTGGGATTGATATATTAGAGCT\n"
     ]
    }
   ],
   "source": [
    "print(random_sequence(skbio.DNA, 10))\n",
    "print(random_sequence(skbio.DNA, 10))\n",
    "print(random_sequence(skbio.DNA, 50))"
   ]
  },
  {
   "cell_type": "code",
   "execution_count": 40,
   "id": "f1385e27-732c-4fd8-af5a-8e61fff54868",
   "metadata": {},
   "outputs": [
    {
     "name": "stdout",
     "output_type": "stream",
     "text": [
      "Done!\n"
     ]
    }
   ],
   "source": [
    "times = []\n",
    "seq_lengths = range(5_000, 510_000, 100_000)\n",
    "\n",
    "def get_time_function(seq_length):\n",
    "    def f():\n",
    "        seq1 = random_sequence(skbio.DNA, seq_length)\n",
    "        seq2 = random_sequence(skbio.DNA, seq_length)\n",
    "        local_pairwise_align_ssw(seq1, seq2)\n",
    "    return f\n",
    "\n",
    "for seq_length in seq_lengths:\n",
    "    times.append(min(timeit.Timer(get_time_function(seq_length)).repeat(repeat=3, number=3)))\n",
    "    \n",
    "print(\"Done!\")"
   ]
  },
  {
   "cell_type": "code",
   "execution_count": 43,
   "id": "85add483-13b6-4ad4-8455-9996d25bad55",
   "metadata": {},
   "outputs": [],
   "source": [
    "runtimes = pd.DataFrame(data=np.asarray([seq_lengths, times]).T, columns = [\"Sequence length\", \"Runtime (s)\"])"
   ]
  },
  {
   "cell_type": "markdown",
   "id": "2dfea05d-d80f-4c2d-928b-29be03991be1",
   "metadata": {},
   "source": [
    "### Complexidade computacional"
   ]
  },
  {
   "cell_type": "code",
   "execution_count": 44,
   "id": "a763cf06-c4ca-4afc-ac93-a778dd2870ef",
   "metadata": {},
   "outputs": [
    {
     "data": {
      "text/plain": [
       "<AxesSubplot:xlabel='Sequence length', ylabel='Runtime (s)'>"
      ]
     },
     "execution_count": 44,
     "metadata": {},
     "output_type": "execute_result"
    },
    {
     "data": {
      "image/png": "[encoded data removed]",
      "text/plain": [
       "<Figure size 640x480 with 1 Axes>"
      ]
     },
     "metadata": {},
     "output_type": "display_data"
    }
   ],
   "source": [
    "ax = sns.regplot(x=\"Sequence length\", y = \"Runtime (s)\", data = runtimes, fit_reg = False)\n",
    "ax.set_xlim(0)\n",
    "ax.set_ylim(0)\n",
    "ax # O(n^2) - usar mais processadores pode diminuir o runtime, mas a complexidade permanece a mesma, pois só vai dividir n^2"
   ]
  },
  {
   "cell_type": "code",
   "execution_count": 45,
   "id": "b2e209ec-b984-404c-adcc-c8cfdcce0f01",
   "metadata": {},
   "outputs": [
    {
     "data": {
      "text/plain": [
       "(0.0, 30.992003071249748)"
      ]
     },
     "execution_count": 45,
     "metadata": {},
     "output_type": "execute_result"
    },
    {
     "data": {
      "image/png": "[encoded data removed]",
      "text/plain": [
       "<Figure size 640x480 with 1 Axes>"
      ]
     },
     "metadata": {},
     "output_type": "display_data"
    }
   ],
   "source": [
    "# if we could split this process over more processors that would effectively reduce the runtime by 1/4\n",
    "parallel_runtimes = runtimes = pd.DataFrame(data=np.asarray([seq_lengths, [t/4 for t in times]]).T, columns = [\"Sequence length\", \"Runtime (s)\"])\n",
    "\n",
    "ax = sns.regplot(x=\"Sequence length\", y = \"Runtime (s)\", data = runtimes, fit_reg = False)\n",
    "ax.set_xlim(0)\n",
    "ax.set_ylim(0)"
   ]
  },
  {
   "cell_type": "markdown",
   "id": "9792d7ea-7c20-44ca-8fa0-0944f1e399aa",
   "metadata": {},
   "source": [
    "Ao lidar com datasets grandes, isso pode ser um problema"
   ]
  },
  {
   "cell_type": "markdown",
   "id": "d37df067-042e-466a-b093-6bc1ccffe144",
   "metadata": {},
   "source": [
    "## Sequence Homology Searching"
   ]
  },
  {
   "cell_type": "markdown",
   "id": "060c4adf-1974-4918-90cc-e9f06a7bba21",
   "metadata": {
    "slideshow": {
     "slide_type": "fragment"
    },
    "tags": []
   },
   "source": [
    "Sequências homólogas são sequências derivadas de um ancestral. Em vez de calcular distâncias/dissimilaridade, na busca por homólogos foca-se mais nas semelhanças entre as sequências/espécies.\n",
    "\n",
    "Importante notar que se usa similaridade para **INFERIR** homologia, mas nem sempre isso é necessariamente verdade. Ou seja, nem toda sequência similar é homóloga a outra. Similaridade é calculada pela inverso da Hamming distance ($1-Hamming$), e seu resultado é, portanto, a fração de posições que não diferem entre as sequências."
   ]
  },
  {
   "cell_type": "markdown",
   "id": "0f28770a",
   "metadata": {},
   "source": [
    "### Full database search"
   ]
  },
  {
   "cell_type": "code",
   "execution_count": 46,
   "id": "86b385aa-8322-42e1-b0a2-972811fc8879",
   "metadata": {},
   "outputs": [
    {
     "name": "stdout",
     "output_type": "stream",
     "text": [
      "Help on function local_pairwise_align_ssw in module skbio.alignment._pairwise:\n",
      "\n",
      "local_pairwise_align_ssw(sequence1, sequence2, **kwargs)\n",
      "    Align query and target sequences with Striped Smith-Waterman.\n",
      "    \n",
      "    State: Experimental as of 0.4.0.\n",
      "    \n",
      "    Parameters\n",
      "    ----------\n",
      "    sequence1 : DNA, RNA, or Protein\n",
      "        The first unaligned sequence\n",
      "    sequence2 : DNA, RNA, or Protein\n",
      "        The second unaligned sequence\n",
      "    \n",
      "    Returns\n",
      "    -------\n",
      "    tuple\n",
      "        ``TabularMSA`` object containing the aligned sequences, alignment score\n",
      "        (float), and start/end positions of each input sequence (iterable\n",
      "        of two-item tuples). Note that start/end positions are indexes into the\n",
      "        unaligned sequences.\n",
      "    \n",
      "    Notes\n",
      "    -----\n",
      "    This is a wrapper for the SSW package [1]_.\n",
      "    \n",
      "    For a complete list of optional keyword-arguments that can be provided,\n",
      "    see ``skbio.alignment.StripedSmithWaterman``.\n",
      "    \n",
      "    The following kwargs will not have any effect: `suppress_sequences`,\n",
      "    `zero_index`, and `protein`\n",
      "    \n",
      "    If an alignment does not meet a provided filter, `None` will be returned.\n",
      "    \n",
      "    References\n",
      "    ----------\n",
      "    .. [1] Zhao, Mengyao, Wan-Ping Lee, Erik P. Garrison, & Gabor T.\n",
      "       Marth. \"SSW Library: An SIMD Smith-Waterman C/C++ Library for\n",
      "       Applications\". PLOS ONE (2013). Web. 11 July 2014.\n",
      "       http://www.plosone.org/article/info:doi/10.1371/journal.pone.0082138\n",
      "    \n",
      "    See Also\n",
      "    --------\n",
      "    skbio.alignment.StripedSmithWaterman\n",
      "\n"
     ]
    }
   ],
   "source": [
    "help(local_pairwise_align_ssw)"
   ]
  },
  {
   "cell_type": "code",
   "execution_count": 47,
   "id": "02da0ba5",
   "metadata": {},
   "outputs": [],
   "source": [
    "# A base de dados é um subset do Greengenes Database\n",
    "# The Greengenes database is comprised of 16S rRNA genes organized formats for use in pipelines (with taxonomic annotations)\n",
    "\n",
    "def load_taxonomy_reference_database(verbose=True):\n",
    "    reference_taxonomy = {}\n",
    "    for e in open(qdr.get_reference_taxonomy()):\n",
    "        seq_id, seq_tax = e.strip().split('\\t')\n",
    "        reference_taxonomy[seq_id] = seq_tax\n",
    "\n",
    "    # agora carregar as sequências usadas como referência e associar as anotações taxonomicas a elas como metadados\n",
    "    reference_db = []\n",
    "    for e in skbio.io.read(qdr.get_reference_sequences(), format='fasta', constructor=skbio.DNA):\n",
    "        if e.has_degenerates(): # ou seja, nucleotideos desconhecidos, como N (qualquer caractere que nao A, C, G ou T)\n",
    "            # vamos ignorar esses caracteres nesse exercicio pra simplificacao\n",
    "            continue\n",
    "        seq_tax = reference_taxonomy[e.metadata['id']]\n",
    "        e.metadata['taxonomy'] = seq_tax\n",
    "        reference_db.append(e)\n",
    "\n",
    "    if verbose:\n",
    "        print(f\"{len(reference_db)} foram carregadas como banco de dados referencia\")\n",
    "\n",
    "    return reference_taxonomy, reference_db"
   ]
  },
  {
   "cell_type": "code",
   "execution_count": 48,
   "id": "8fd1e2a6",
   "metadata": {},
   "outputs": [
    {
     "name": "stdout",
     "output_type": "stream",
     "text": [
      "88452 foram carregadas como banco de dados referencia\n"
     ]
    },
    {
     "data": {
      "text/plain": [
       "DNA\n",
       "-----------------------------------------------------------------------\n",
       "Metadata:\n",
       "    'description': ''\n",
       "    'id': '1111883'\n",
       "    'taxonomy': 'k__Bacteria; p__Gemmatimonadetes; c__Gemm-1; o__; f__;\n",
       "                 g__; s__'\n",
       "Stats:\n",
       "    length: 1428\n",
       "    has gaps: False\n",
       "    has degenerates: False\n",
       "    has definites: True\n",
       "    GC-content: 61.90%\n",
       "-----------------------------------------------------------------------\n",
       "0    GCTGGCGGCG TGCCTAACAC ATGTAAGTCG AACGGGACTG GGGGCAACTC CAGTTCAGTG\n",
       "60   GCAGACGGGT GCGTAACACG TGAGCAACTT GTCCGACGGC GGGGGATAGC CGGCCCAACG\n",
       "...\n",
       "1320 GCCGCGGTGA ATACGTTCCC GGGCCTTGTA CACACCGCCC GTCACGCCAT GGAAGCCGGA\n",
       "1380 GGGACCCGAA ACCGGTGGGC CAACCGCAAG GGGGCAGCCG TCTAAGGT"
      ]
     },
     "execution_count": 48,
     "metadata": {},
     "output_type": "execute_result"
    }
   ],
   "source": [
    "reference_taxonomy, reference_db = load_taxonomy_reference_database()\n",
    "\n",
    "reference_db[0]"
   ]
  },
  {
   "cell_type": "markdown",
   "id": "bda607aa",
   "metadata": {},
   "source": [
    "taxonomy segue o ReFiCOFaGE\n",
    "Algumas sequências do banco de dados têm uma resolução menor ou maior, dependendo (algumas só contêm reino, outras vão até gênero ou espécie)\n"
   ]
  },
  {
   "cell_type": "code",
   "execution_count": 49,
   "id": "8f984a47",
   "metadata": {},
   "outputs": [
    {
     "data": {
      "text/plain": [
       "DNA\n",
       "----------------------------------------------------------------------\n",
       "Metadata:\n",
       "    'description': ''\n",
       "    'id': '4483258'\n",
       "    'taxonomy': 'k__Archaea; p__Crenarchaeota; c__Thermoprotei;\n",
       "                 o__Thermoproteales; f__Thermoproteaceae; g__; s__'\n",
       "Stats:\n",
       "    length: 2123\n",
       "    has gaps: False\n",
       "    has degenerates: False\n",
       "    has definites: True\n",
       "    GC-content: 58.36%\n",
       "----------------------------------------------------------------------\n",
       "0    CTGGTTGATC CTGCCGGACC CGACCGCTAT CGGGGTGGGG CTTAGCCATG CGAGTCAAGC\n",
       "60   GCCCCAGGGA CCCGCTGGGG TGCGGCGCAC GGCTCAGTAA CACGTGGCCA ACCTACCCTC\n",
       "...\n",
       "2040 ATAATCTCCT TATTGTCTGA TCCTTATGCA TTTTCCTTTG GCCCATCCCG TGAATACGCG\n",
       "2100 CGGTGAATAC GTCCCTGCCC CTT"
      ]
     },
     "execution_count": 49,
     "metadata": {},
     "output_type": "execute_result"
    }
   ],
   "source": [
    "reference_db[-1]"
   ]
  },
  {
   "cell_type": "code",
   "execution_count": 50,
   "id": "c8eb9cfa",
   "metadata": {},
   "outputs": [
    {
     "name": "stdout",
     "output_type": "stream",
     "text": [
      "5000 sequencias estão presentes nessa amostragem da base\n"
     ]
    }
   ],
   "source": [
    "reference_db = random.sample(reference_db, k = 5000)\n",
    "print(f\"{len(reference_db)} sequencias estão presentes nessa amostragem da base\") # pra ficar mais rapido no exercicio"
   ]
  },
  {
   "cell_type": "code",
   "execution_count": 51,
   "id": "6c2d9e61",
   "metadata": {},
   "outputs": [],
   "source": [
    "def load_taxonomy_query_sequences(start_position=100, length=200):\n",
    "    queries = []\n",
    "    for e in skbio.io.read(qdr.get_reference_sequences(), format = 'fasta', constructor=skbio.DNA):\n",
    "        if e.has_degenerates():\n",
    "            continue\n",
    "        e = e[start_position:start_position + length]\n",
    "        queries.append(e)\n",
    "\n",
    "    return queries\n",
    "    "
   ]
  },
  {
   "cell_type": "markdown",
   "id": "3e583401",
   "metadata": {},
   "source": [
    "Nesse ponto, queremos simular como obtemos sequências com instrumentos de sequenciamento de DNA. Então, geralmente com esses instrumentos não se pega a sequência completa. É comum obtermos comprimentos de 200 a 400 bp. Por isso o argumento de `length`. Além disso, numa reação de PCR, por exemplo, o forward primer vai se ligar a sequência alvo apenas em uma determinada posição (annealing step). Por isso o argumento `start_position`."
   ]
  },
  {
   "cell_type": "code",
   "execution_count": 52,
   "id": "052b135e",
   "metadata": {},
   "outputs": [],
   "source": [
    "queries = load_taxonomy_query_sequences()\n",
    "queries = random.sample(queries, k=50)"
   ]
  },
  {
   "cell_type": "code",
   "execution_count": 53,
   "id": "8fcf5c41",
   "metadata": {},
   "outputs": [
    {
     "data": {
      "text/plain": [
       "DNA\n",
       "---------------------------------------------------------------------\n",
       "Metadata:\n",
       "    'description': ''\n",
       "    'id': '765455'\n",
       "Stats:\n",
       "    length: 200\n",
       "    has gaps: False\n",
       "    has degenerates: False\n",
       "    has definites: True\n",
       "    GC-content: 49.00%\n",
       "---------------------------------------------------------------------\n",
       "0   GAACTGGGGG ATAGCCTTTG GAAACGAGGA GTAATACCCC ATAGTATTAT TGACTGGCAT\n",
       "60  CGGTTAATAA TTAAAGTTAC AGCGGTTCAA GATTGATGTG CGTTGGATTA GGTAGTTGGT\n",
       "120 AAGGTAACGG CTTACCAAGC CTACGATCCA TAGGGGGCGT GAGAGCGTGA ACCCCCACAC\n",
       "180 GGGTACTGAG ACACGGACCC"
      ]
     },
     "execution_count": 53,
     "metadata": {},
     "output_type": "execute_result"
    }
   ],
   "source": [
    "queries[0]"
   ]
  },
  {
   "cell_type": "code",
   "execution_count": 54,
   "id": "9aa72dc2",
   "metadata": {},
   "outputs": [
    {
     "data": {
      "text/plain": [
       "DNA\n",
       "---------------------------------------------------------------------\n",
       "Metadata:\n",
       "    'description': ''\n",
       "    'id': '4432468'\n",
       "Stats:\n",
       "    length: 200\n",
       "    has gaps: False\n",
       "    has degenerates: False\n",
       "    has definites: True\n",
       "    GC-content: 53.00%\n",
       "---------------------------------------------------------------------\n",
       "0   GGGCATAACT CTGCGAAAGC AGAGATAATT CCCGATATTC TCGCAAGAGA AAAGATTTAT\n",
       "60  CGCTTGAGGA GCGGCCTGCG TCTGATTAGC TTGTTGGTGG GGTAAAGGCC TACCAAGGCG\n",
       "120 ATGATCAGTA GCTGGTTTGA GAGGATGACC AGCCAGACTG GGACTGAGAC ACGGCCCAGA\n",
       "180 CTCCTACGGG AGGCAGCAGT"
      ]
     },
     "execution_count": 54,
     "metadata": {},
     "output_type": "execute_result"
    }
   ],
   "source": [
    "queries[-1]"
   ]
  },
  {
   "cell_type": "code",
   "execution_count": 55,
   "id": "8eb93d7b",
   "metadata": {},
   "outputs": [],
   "source": [
    "def local_alignment_search(queries, reference_db, n=5, aligner = local_pairwise_align_ssw):\n",
    "    results = []\n",
    "    indices = []\n",
    "    for q in queries:\n",
    "        hits = []\n",
    "        for r in reference_db:\n",
    "            # fazendo o alinhamento com cada sequencia da base referencia\n",
    "            aln, score, _ = aligner(q,r)\n",
    "            hits.append([r.metadata['id'], score, aln, r.metadata['taxonomy']])\n",
    "\n",
    "        # fazemos entao uma ordenacao reversa pelo score, e retornamos os n alinhamentos com maior score\n",
    "        best_hits = sorted(hits, key=lambda e : e[1], reverse=True)[:n]\n",
    "        if len(best_hits) == 0:\n",
    "            indices.append((q.metadata['id'], \"no matches\"))\n",
    "            results.append((\"n/a\", np.nan, np.nan, np.nan))\n",
    "        else:\n",
    "            for r_id, score, aln, r_tax in best_hits:\n",
    "                percent_similarity = (100 * (1. - aln[0].distance(aln[1])))\n",
    "                aln_length = aln.shape[1]\n",
    "                indices.append((q.metadata['id'], r_id))\n",
    "                results.append((r_tax, percent_similarity, aln_length, score))\n",
    "\n",
    "    index = pd.MultiIndex.from_tuples(indices, names = ['query', 'reference'])\n",
    "    columns = ['reference taxonomy', 'percent similarity', 'alignment length', 'score']\n",
    "    results = pd.DataFrame(results, index=index, columns=columns)\n",
    "\n",
    "    return results"
   ]
  },
  {
   "cell_type": "code",
   "execution_count": 56,
   "id": "4d62e5f1",
   "metadata": {},
   "outputs": [
    {
     "name": "stdout",
     "output_type": "stream",
     "text": [
      "Runtime: 2.911095440387726 segundos por query\n"
     ]
    }
   ],
   "source": [
    "start_time = time.time()\n",
    "current_queries = random.sample(queries, k=4)\n",
    "results = local_alignment_search(current_queries, reference_db)\n",
    "stop_time = time.time()\n",
    "print(f\"Runtime: {((stop_time - start_time)/len(current_queries))} segundos por query\")"
   ]
  },
  {
   "cell_type": "code",
   "execution_count": 57,
   "id": "f4e98745",
   "metadata": {},
   "outputs": [
    {
     "data": {
      "text/html": [
       "<div>\n",
       "<style scoped>\n",
       "    .dataframe tbody tr th:only-of-type {\n",
       "        vertical-align: middle;\n",
       "    }\n",
       "\n",
       "    .dataframe tbody tr th {\n",
       "        vertical-align: top;\n",
       "    }\n",
       "\n",
       "    .dataframe thead th {\n",
       "        text-align: right;\n",
       "    }\n",
       "</style>\n",
       "<table border=\"1\" class=\"dataframe\">\n",
       "  <thead>\n",
       "    <tr style=\"text-align: right;\">\n",
       "      <th></th>\n",
       "      <th></th>\n",
       "      <th>reference taxonomy</th>\n",
       "      <th>percent similarity</th>\n",
       "      <th>alignment length</th>\n",
       "      <th>score</th>\n",
       "    </tr>\n",
       "    <tr>\n",
       "      <th>query</th>\n",
       "      <th>reference</th>\n",
       "      <th></th>\n",
       "      <th></th>\n",
       "      <th></th>\n",
       "      <th></th>\n",
       "    </tr>\n",
       "  </thead>\n",
       "  <tbody>\n",
       "    <tr>\n",
       "      <th rowspan=\"5\" valign=\"top\">1058761</th>\n",
       "      <th>819853</th>\n",
       "      <td>k__Bacteria; p__Proteobacteria; c__Deltaproteo...</td>\n",
       "      <td>88.500000</td>\n",
       "      <td>200</td>\n",
       "      <td>283</td>\n",
       "    </tr>\n",
       "    <tr>\n",
       "      <th>225970</th>\n",
       "      <td>k__Bacteria; p__Proteobacteria; c__Deltaproteo...</td>\n",
       "      <td>87.939698</td>\n",
       "      <td>199</td>\n",
       "      <td>272</td>\n",
       "    </tr>\n",
       "    <tr>\n",
       "      <th>4389685</th>\n",
       "      <td>k__Bacteria; p__Proteobacteria; c__Deltaproteo...</td>\n",
       "      <td>86.069652</td>\n",
       "      <td>201</td>\n",
       "      <td>253</td>\n",
       "    </tr>\n",
       "    <tr>\n",
       "      <th>4388423</th>\n",
       "      <td>k__Bacteria; p__Proteobacteria; c__Deltaproteo...</td>\n",
       "      <td>78.500000</td>\n",
       "      <td>200</td>\n",
       "      <td>170</td>\n",
       "    </tr>\n",
       "    <tr>\n",
       "      <th>568859</th>\n",
       "      <td>k__Bacteria; p__Proteobacteria; c__Deltaproteo...</td>\n",
       "      <td>77.386935</td>\n",
       "      <td>199</td>\n",
       "      <td>170</td>\n",
       "    </tr>\n",
       "    <tr>\n",
       "      <th rowspan=\"5\" valign=\"top\">582184</th>\n",
       "      <th>348197</th>\n",
       "      <td>k__Bacteria; p__Firmicutes; c__Clostridia; o__...</td>\n",
       "      <td>97.448980</td>\n",
       "      <td>196</td>\n",
       "      <td>367</td>\n",
       "    </tr>\n",
       "    <tr>\n",
       "      <th>4440360</th>\n",
       "      <td>k__Bacteria; p__Firmicutes; c__Clostridia; o__...</td>\n",
       "      <td>97.435897</td>\n",
       "      <td>195</td>\n",
       "      <td>365</td>\n",
       "    </tr>\n",
       "    <tr>\n",
       "      <th>2442074</th>\n",
       "      <td>k__Bacteria; p__Firmicutes; c__Clostridia; o__...</td>\n",
       "      <td>96.500000</td>\n",
       "      <td>200</td>\n",
       "      <td>365</td>\n",
       "    </tr>\n",
       "    <tr>\n",
       "      <th>450047</th>\n",
       "      <td>k__Bacteria; p__Firmicutes; c__Clostridia; o__...</td>\n",
       "      <td>97.422680</td>\n",
       "      <td>194</td>\n",
       "      <td>363</td>\n",
       "    </tr>\n",
       "    <tr>\n",
       "      <th>360303</th>\n",
       "      <td>k__Bacteria; p__Firmicutes; c__Clostridia; o__...</td>\n",
       "      <td>96.938776</td>\n",
       "      <td>196</td>\n",
       "      <td>362</td>\n",
       "    </tr>\n",
       "    <tr>\n",
       "      <th rowspan=\"5\" valign=\"top\">275984</th>\n",
       "      <th>275984</th>\n",
       "      <td>k__Bacteria; p__Firmicutes; c__Clostridia; o__...</td>\n",
       "      <td>100.000000</td>\n",
       "      <td>200</td>\n",
       "      <td>400</td>\n",
       "    </tr>\n",
       "    <tr>\n",
       "      <th>196381</th>\n",
       "      <td>k__Bacteria; p__Firmicutes; c__Clostridia; o__...</td>\n",
       "      <td>85.784314</td>\n",
       "      <td>204</td>\n",
       "      <td>254</td>\n",
       "    </tr>\n",
       "    <tr>\n",
       "      <th>511462</th>\n",
       "      <td>k__Bacteria; p__Firmicutes; c__Clostridia; o__...</td>\n",
       "      <td>85.572139</td>\n",
       "      <td>201</td>\n",
       "      <td>254</td>\n",
       "    </tr>\n",
       "    <tr>\n",
       "      <th>290640</th>\n",
       "      <td>k__Bacteria; p__Firmicutes; c__Clostridia; o__...</td>\n",
       "      <td>85.221675</td>\n",
       "      <td>203</td>\n",
       "      <td>249</td>\n",
       "    </tr>\n",
       "    <tr>\n",
       "      <th>129755</th>\n",
       "      <td>k__Bacteria; p__Firmicutes; c__Clostridia; o__...</td>\n",
       "      <td>85.096154</td>\n",
       "      <td>208</td>\n",
       "      <td>246</td>\n",
       "    </tr>\n",
       "    <tr>\n",
       "      <th rowspan=\"5\" valign=\"top\">765455</th>\n",
       "      <th>4389210</th>\n",
       "      <td>k__Bacteria; p__Bacteroidetes; c__[Saprospirae...</td>\n",
       "      <td>84.693878</td>\n",
       "      <td>196</td>\n",
       "      <td>238</td>\n",
       "    </tr>\n",
       "    <tr>\n",
       "      <th>4404665</th>\n",
       "      <td>k__Bacteria; p__Bacteroidetes; c__Flavobacteri...</td>\n",
       "      <td>82.412060</td>\n",
       "      <td>199</td>\n",
       "      <td>217</td>\n",
       "    </tr>\n",
       "    <tr>\n",
       "      <th>561978</th>\n",
       "      <td>k__Bacteria; p__Bacteroidetes; c__[Saprospirae...</td>\n",
       "      <td>82.500000</td>\n",
       "      <td>200</td>\n",
       "      <td>215</td>\n",
       "    </tr>\n",
       "    <tr>\n",
       "      <th>2534</th>\n",
       "      <td>k__Bacteria; p__Bacteroidetes; c__[Saprospirae...</td>\n",
       "      <td>81.773399</td>\n",
       "      <td>203</td>\n",
       "      <td>211</td>\n",
       "    </tr>\n",
       "    <tr>\n",
       "      <th>586760</th>\n",
       "      <td>k__Bacteria; p__Bacteroidetes; c__[Saprospirae...</td>\n",
       "      <td>81.683168</td>\n",
       "      <td>202</td>\n",
       "      <td>210</td>\n",
       "    </tr>\n",
       "  </tbody>\n",
       "</table>\n",
       "</div>"
      ],
      "text/plain": [
       "                                                  reference taxonomy  \\\n",
       "query   reference                                                      \n",
       "1058761 819853     k__Bacteria; p__Proteobacteria; c__Deltaproteo...   \n",
       "        225970     k__Bacteria; p__Proteobacteria; c__Deltaproteo...   \n",
       "        4389685    k__Bacteria; p__Proteobacteria; c__Deltaproteo...   \n",
       "        4388423    k__Bacteria; p__Proteobacteria; c__Deltaproteo...   \n",
       "        568859     k__Bacteria; p__Proteobacteria; c__Deltaproteo...   \n",
       "582184  348197     k__Bacteria; p__Firmicutes; c__Clostridia; o__...   \n",
       "        4440360    k__Bacteria; p__Firmicutes; c__Clostridia; o__...   \n",
       "        2442074    k__Bacteria; p__Firmicutes; c__Clostridia; o__...   \n",
       "        450047     k__Bacteria; p__Firmicutes; c__Clostridia; o__...   \n",
       "        360303     k__Bacteria; p__Firmicutes; c__Clostridia; o__...   \n",
       "275984  275984     k__Bacteria; p__Firmicutes; c__Clostridia; o__...   \n",
       "        196381     k__Bacteria; p__Firmicutes; c__Clostridia; o__...   \n",
       "        511462     k__Bacteria; p__Firmicutes; c__Clostridia; o__...   \n",
       "        290640     k__Bacteria; p__Firmicutes; c__Clostridia; o__...   \n",
       "        129755     k__Bacteria; p__Firmicutes; c__Clostridia; o__...   \n",
       "765455  4389210    k__Bacteria; p__Bacteroidetes; c__[Saprospirae...   \n",
       "        4404665    k__Bacteria; p__Bacteroidetes; c__Flavobacteri...   \n",
       "        561978     k__Bacteria; p__Bacteroidetes; c__[Saprospirae...   \n",
       "        2534       k__Bacteria; p__Bacteroidetes; c__[Saprospirae...   \n",
       "        586760     k__Bacteria; p__Bacteroidetes; c__[Saprospirae...   \n",
       "\n",
       "                   percent similarity  alignment length  score  \n",
       "query   reference                                               \n",
       "1058761 819853              88.500000               200    283  \n",
       "        225970              87.939698               199    272  \n",
       "        4389685             86.069652               201    253  \n",
       "        4388423             78.500000               200    170  \n",
       "        568859              77.386935               199    170  \n",
       "582184  348197              97.448980               196    367  \n",
       "        4440360             97.435897               195    365  \n",
       "        2442074             96.500000               200    365  \n",
       "        450047              97.422680               194    363  \n",
       "        360303              96.938776               196    362  \n",
       "275984  275984             100.000000               200    400  \n",
       "        196381              85.784314               204    254  \n",
       "        511462              85.572139               201    254  \n",
       "        290640              85.221675               203    249  \n",
       "        129755              85.096154               208    246  \n",
       "765455  4389210             84.693878               196    238  \n",
       "        4404665             82.412060               199    217  \n",
       "        561978              82.500000               200    215  \n",
       "        2534                81.773399               203    211  \n",
       "        586760              81.683168               202    210  "
      ]
     },
     "execution_count": 57,
     "metadata": {},
     "output_type": "execute_result"
    }
   ],
   "source": [
    "results"
   ]
  },
  {
   "cell_type": "code",
   "execution_count": 58,
   "id": "f9335e25",
   "metadata": {},
   "outputs": [
    {
     "name": "stdout",
     "output_type": "stream",
     "text": [
      "Taxonomias mais proximas da query 1058761 (em ordem)\n",
      "  k__Bacteria; p__Proteobacteria; c__Deltaproteobacteria; o__MIZ46; f__; g__; s__\n",
      "  k__Bacteria; p__Proteobacteria; c__Deltaproteobacteria; o__MIZ46; f__; g__; s__\n",
      "  k__Bacteria; p__Proteobacteria; c__Deltaproteobacteria; o__MIZ46; f__; g__; s__\n",
      "  k__Bacteria; p__Proteobacteria; c__Deltaproteobacteria; o__Desulfuromonadales; f__Geobacteraceae; g__Geobacter; s__\n",
      "  k__Bacteria; p__Proteobacteria; c__Deltaproteobacteria; o__GMD14H09; f__; g__; s__\n",
      "\n",
      "Taxonomias mais proximas da query 582184 (em ordem)\n",
      "  k__Bacteria; p__Firmicutes; c__Clostridia; o__Clostridiales; f__; g__; s__\n",
      "  k__Bacteria; p__Firmicutes; c__Clostridia; o__Clostridiales; f__Lachnospiraceae; g__; s__\n",
      "  k__Bacteria; p__Firmicutes; c__Clostridia; o__Clostridiales; f__; g__; s__\n",
      "  k__Bacteria; p__Firmicutes; c__Clostridia; o__Clostridiales; f__Lachnospiraceae; g__; s__\n",
      "  k__Bacteria; p__Firmicutes; c__Clostridia; o__Clostridiales; f__; g__; s__\n",
      "\n",
      "Taxonomias mais proximas da query 275984 (em ordem)\n",
      "  k__Bacteria; p__Firmicutes; c__Clostridia; o__Clostridiales; f__Lachnospiraceae; g__; s__\n",
      "  k__Bacteria; p__Firmicutes; c__Clostridia; o__Clostridiales; f__Lachnospiraceae; g__; s__\n",
      "  k__Bacteria; p__Firmicutes; c__Clostridia; o__Clostridiales; f__Lachnospiraceae; g__Butyrivibrio; s__\n",
      "  k__Bacteria; p__Firmicutes; c__Clostridia; o__Clostridiales; f__Lachnospiraceae; g__; s__\n",
      "  k__Bacteria; p__Firmicutes; c__Clostridia; o__Clostridiales; f__Lachnospiraceae; g__Butyrivibrio; s__\n",
      "\n",
      "Taxonomias mais proximas da query 765455 (em ordem)\n",
      "  k__Bacteria; p__Bacteroidetes; c__[Saprospirae]; o__[Saprospirales]; f__Saprospiraceae; g__; s__\n",
      "  k__Bacteria; p__Bacteroidetes; c__Flavobacteriia; o__Flavobacteriales; f__Flavobacteriaceae; g__; s__\n",
      "  k__Bacteria; p__Bacteroidetes; c__[Saprospirae]; o__[Saprospirales]; f__Saprospiraceae; g__; s__\n",
      "  k__Bacteria; p__Bacteroidetes; c__[Saprospirae]; o__[Saprospirales]; f__Saprospiraceae; g__; s__\n",
      "  k__Bacteria; p__Bacteroidetes; c__[Saprospirae]; o__[Saprospirales]; f__Saprospiraceae; g__; s__\n",
      "\n"
     ]
    }
   ],
   "source": [
    "def get_closest_taxonomies(current_queries, results):\n",
    "    for q in current_queries:\n",
    "        q_id = q.metadata['id']\n",
    "        print (f\"Taxonomias mais proximas da query {q_id} (em ordem)\")\n",
    "        for e in results['reference taxonomy'][q_id]:\n",
    "            print(' ', e)\n",
    "        print()\n",
    "\n",
    "get_closest_taxonomies(current_queries, results)"
   ]
  },
  {
   "cell_type": "code",
   "execution_count": 59,
   "id": "fb3f02d2",
   "metadata": {},
   "outputs": [
    {
     "name": "stdout",
     "output_type": "stream",
     "text": [
      "Taxonomia conhecida para query 1058761:\n",
      " k__Bacteria; p__Proteobacteria; c__Deltaproteobacteria; o__MIZ46; f__; g__; s__\n",
      "Taxonomia conhecida para query 582184:\n",
      " k__Bacteria; p__Firmicutes; c__Clostridia; o__Clostridiales; f__Lachnospiraceae; g__Butyrivibrio; s__\n",
      "Taxonomia conhecida para query 275984:\n",
      " k__Bacteria; p__Firmicutes; c__Clostridia; o__Clostridiales; f__Lachnospiraceae; g__; s__\n",
      "Taxonomia conhecida para query 765455:\n",
      " k__Bacteria; p__Bacteroidetes; c__[Saprospirae]; o__[Saprospirales]; f__Saprospiraceae; g__; s__\n"
     ]
    }
   ],
   "source": [
    "def get_right_taxonomies(current_queries):\n",
    "    for q in current_queries:\n",
    "        q_id = q.metadata['id']\n",
    "        # pra comparamos a taxonomia ja anotada com a que obtemos com o alinhamento acima\n",
    "        print(f\"Taxonomia conhecida para query {q_id}:\\n {reference_taxonomy[q_id]}\")\n",
    "\n",
    "get_right_taxonomies(current_queries)"
   ]
  },
  {
   "cell_type": "markdown",
   "id": "9371e244",
   "metadata": {},
   "source": [
    "*Complexidade computacional*: O(n).\n",
    "\n",
    "    - Slow step: pairwise alignment"
   ]
  },
  {
   "cell_type": "markdown",
   "id": "c991b60b",
   "metadata": {},
   "source": [
    "### Algoritmos heurísticos"
   ]
  },
  {
   "cell_type": "markdown",
   "id": "00d7e26c",
   "metadata": {},
   "source": [
    "Nesse caso, podemos sacrificar a solução ótima em tempo linear provida pelo método acima por heurísticas que vão reduzir o tempo de execução mas não garantem a solução ótima. É preciso levar em conta quão frequente o algoritmo heurístico chega na resposta certa (ou próximo) e se essa redução no tempo de execução justifica a não garantia de chegarmos na resposta correta."
   ]
  },
  {
   "cell_type": "code",
   "execution_count": 60,
   "id": "072c7f91",
   "metadata": {},
   "outputs": [],
   "source": [
    "def heuristic_local_alignment_search_random(queries, reference_db, p, n=5, aligner=local_pairwise_align_ssw):\n",
    "    # p é a porcentagem que usaremos fazer uma subamostragem da nossa base de dados referencia\n",
    "    k = int(p * len(reference_db))\n",
    "    database_subset = random.sample(reference_db, k)\n",
    "    return local_alignment_search(queries, database_subset, n=n, aligner=aligner)\n"
   ]
  },
  {
   "cell_type": "code",
   "execution_count": 61,
   "id": "b0d164aa",
   "metadata": {},
   "outputs": [],
   "source": [
    "current_queries = random.sample(queries, k=10)"
   ]
  },
  {
   "cell_type": "code",
   "execution_count": 62,
   "id": "18ca28ca",
   "metadata": {},
   "outputs": [
    {
     "name": "stdout",
     "output_type": "stream",
     "text": [
      "Taxonomias mais proximas da query 275984 (em ordem)\n",
      "  k__Bacteria; p__Firmicutes; c__Clostridia; o__Clostridiales; f__Lachnospiraceae; g__; s__\n",
      "  k__Bacteria; p__Firmicutes; c__Clostridia; o__Clostridiales; f__Lachnospiraceae; g__; s__\n",
      "  k__Bacteria; p__Firmicutes; c__Clostridia; o__Clostridiales; f__Lachnospiraceae; g__; s__\n",
      "  k__Bacteria; p__Firmicutes; c__Clostridia; o__Clostridiales; f__Lachnospiraceae; g__; s__\n",
      "  k__Bacteria; p__Firmicutes; c__Clostridia; o__Clostridiales; f__Lachnospiraceae; g__; s__\n",
      "\n",
      "Taxonomias mais proximas da query 350149 (em ordem)\n",
      "  k__Bacteria; p__Bacteroidetes; c__Bacteroidia; o__Bacteroidales; f__S24-7; g__; s__\n",
      "  k__Bacteria; p__Bacteroidetes; c__Bacteroidia; o__Bacteroidales; f__S24-7; g__; s__\n",
      "  k__Bacteria; p__Bacteroidetes; c__Cytophagia; o__Cytophagales; f__Cytophagaceae; g__; s__\n",
      "  k__Bacteria; p__Bacteroidetes; c__Bacteroidia; o__Bacteroidales; f__S24-7; g__; s__\n",
      "  k__Bacteria; p__Bacteroidetes; c__Sphingobacteriia; o__Sphingobacteriales; f__Sphingobacteriaceae; g__Sphingobacterium; s__\n",
      "\n",
      "Taxonomias mais proximas da query 338906 (em ordem)\n",
      "  k__Bacteria; p__Bacteroidetes; c__[Saprospirae]; o__[Saprospirales]; f__Saprospiraceae; g__Haliscomenobacter; s__\n",
      "  k__Bacteria; p__Bacteroidetes; c__[Saprospirae]; o__[Saprospirales]; f__Saprospiraceae; g__; s__\n",
      "  k__Bacteria; p__Bacteroidetes; c__[Saprospirae]; o__[Saprospirales]; f__Saprospiraceae; g__; s__\n",
      "  k__Bacteria; p__Firmicutes; c__Clostridia; o__Clostridiales; f__[Tissierellaceae]; g__Tepidimicrobium; s__\n",
      "  k__Bacteria; p__Bacteroidetes; c__Flavobacteriia; o__Flavobacteriales; f__Cryomorphaceae; g__Fluviicola; s__\n",
      "\n",
      "Taxonomias mais proximas da query 809179 (em ordem)\n",
      "  k__Bacteria; p__Gemmatimonadetes; c__Gemmatimonadetes; o__N1423WL; f__; g__; s__\n",
      "  k__Bacteria; p__Verrucomicrobia; c__[Spartobacteria]; o__[Chthoniobacterales]; f__[Chthoniobacteraceae]; g__DA101; s__\n",
      "  k__Bacteria; p__Firmicutes; c__Clostridia; o__Clostridiales; f__Clostridiaceae; g__; s__\n",
      "  k__Bacteria; p__Verrucomicrobia; c__Opitutae; o__Opitutales; f__Opitutaceae; g__Opitutus; s__\n",
      "  k__Bacteria; p__Actinobacteria; c__Thermoleophilia; o__Solirubrobacterales; f__; g__; s__\n",
      "\n",
      "Taxonomias mais proximas da query 611192 (em ordem)\n",
      "  k__Bacteria; p__Actinobacteria; c__Actinobacteria; o__Actinomycetales; f__Geodermatophilaceae; g__Geodermatophilus; s__obscurus\n",
      "  k__Bacteria; p__Actinobacteria; c__Actinobacteria; o__Actinomycetales; f__Nocardioidaceae; g__; s__\n",
      "  k__Bacteria; p__Actinobacteria; c__Actinobacteria; o__Actinomycetales; f__Geodermatophilaceae; g__Modestobacter; s__\n",
      "  k__Bacteria; p__Actinobacteria; c__Actinobacteria; o__Actinomycetales; f__Cellulomonadaceae; g__; s__\n",
      "  k__Bacteria; p__Actinobacteria; c__Actinobacteria; o__Actinomycetales; f__ACK-M1; g__; s__\n",
      "\n",
      "Taxonomias mais proximas da query 709371 (em ordem)\n",
      "  k__Bacteria; p__Proteobacteria; c__Betaproteobacteria; o__Burkholderiales; f__Alcaligenaceae; g__; s__\n",
      "  k__Bacteria; p__Proteobacteria; c__Gammaproteobacteria; o__Legionellales; f__Coxiellaceae; g__; s__\n",
      "  k__Bacteria; p__Proteobacteria; c__Alphaproteobacteria; o__Rhodospirillales; f__Acetobacteraceae; g__Gluconacetobacter; s__rhaeticus\n",
      "  k__Bacteria; p__Proteobacteria; c__Alphaproteobacteria; o__; f__; g__; s__\n",
      "  k__Bacteria; p__Proteobacteria; c__Gammaproteobacteria; o__Chromatiales; f__Ectothiorhodospiraceae; g__; s__\n",
      "\n",
      "Taxonomias mais proximas da query 113213 (em ordem)\n",
      "  k__Bacteria; p__Proteobacteria; c__Alphaproteobacteria; o__Rhizobiales; f__Hyphomicrobiaceae; g__Rhodoplanes; s__\n",
      "  k__Bacteria; p__Proteobacteria; c__Alphaproteobacteria; o__Rhizobiales; f__Hyphomicrobiaceae; g__Rhodoplanes; s__\n",
      "  k__Bacteria; p__Proteobacteria; c__Alphaproteobacteria; o__Rhizobiales; f__; g__; s__\n",
      "  k__Bacteria; p__Proteobacteria; c__Alphaproteobacteria; o__Rhizobiales; f__Hyphomicrobiaceae; g__Rhodoplanes; s__\n",
      "  k__Bacteria; p__Proteobacteria; c__Alphaproteobacteria; o__Rhizobiales; f__Bradyrhizobiaceae; g__; s__\n",
      "\n",
      "Taxonomias mais proximas da query 229373 (em ordem)\n",
      "  k__Bacteria; p__Proteobacteria; c__Deltaproteobacteria; o__PB19; f__; g__; s__\n",
      "  k__Bacteria; p__Proteobacteria; c__Alphaproteobacteria; o__Sphingomonadales; f__Sphingomonadaceae; g__Kaistobacter; s__\n",
      "  k__Bacteria; p__Proteobacteria; c__Alphaproteobacteria; o__Sphingomonadales; f__Sphingomonadaceae; g__; s__\n",
      "  k__Bacteria; p__Proteobacteria; c__Alphaproteobacteria; o__Rhizobiales; f__Hyphomicrobiaceae; g__; s__\n",
      "  k__Bacteria; p__Firmicutes; c__Clostridia; o__Clostridiales; f__Lachnospiraceae; g__; s__\n",
      "\n",
      "Taxonomias mais proximas da query 306957 (em ordem)\n",
      "  k__Bacteria; p__Proteobacteria; c__Gammaproteobacteria; o__Alteromonadales; f__Alteromonadaceae; g__Candidatus Endobugula; s__\n",
      "  k__Bacteria; p__Proteobacteria; c__Deltaproteobacteria; o__Desulfobacterales; f__Desulfobulbaceae; g__; s__\n",
      "  k__Bacteria; p__Proteobacteria; c__TA18; o__CV90; f__; g__; s__\n",
      "  k__Bacteria; p__Proteobacteria; c__Deltaproteobacteria; o__Bdellovibrionales; f__Bdellovibrionaceae; g__Bdellovibrio; s__\n",
      "  k__Bacteria; p__Proteobacteria; c__Deltaproteobacteria; o__Bdellovibrionales; f__Bacteriovoracaceae; g__; s__\n",
      "\n",
      "Taxonomias mais proximas da query 786666 (em ordem)\n",
      "  k__Bacteria; p__Proteobacteria; c__Deltaproteobacteria; o__Myxococcales; f__; g__; s__\n",
      "  k__Bacteria; p__Proteobacteria; c__Deltaproteobacteria; o__Myxococcales; f__Cystobacterineae; g__; s__\n",
      "  k__Bacteria; p__Proteobacteria; c__Deltaproteobacteria; o__Desulfuromonadales; f__Pelobacteraceae; g__; s__\n",
      "  k__Bacteria; p__Verrucomicrobia; c__[Pedosphaerae]; o__[Pedosphaerales]; f__OPB35; g__; s__\n",
      "  k__Bacteria; p__Verrucomicrobia; c__Verruco-5; o__WCHB1-41; f__; g__; s__\n",
      "\n"
     ]
    }
   ],
   "source": [
    "results = heuristic_local_alignment_search_random(current_queries, reference_db, p=0.10)\n",
    "\n",
    "get_closest_taxonomies(current_queries, results)"
   ]
  },
  {
   "cell_type": "code",
   "execution_count": 63,
   "id": "3c6e7094",
   "metadata": {},
   "outputs": [
    {
     "name": "stdout",
     "output_type": "stream",
     "text": [
      "Taxonomia conhecida para query 275984:\n",
      " k__Bacteria; p__Firmicutes; c__Clostridia; o__Clostridiales; f__Lachnospiraceae; g__; s__\n",
      "Taxonomia conhecida para query 350149:\n",
      " k__Bacteria; p__Bacteroidetes; c__Bacteroidia; o__Bacteroidales; f__S24-7; g__; s__\n",
      "Taxonomia conhecida para query 338906:\n",
      " k__Bacteria; p__Bacteroidetes; c__[Saprospirae]; o__[Saprospirales]; f__Saprospiraceae; g__; s__\n",
      "Taxonomia conhecida para query 809179:\n",
      " k__Bacteria; p__Verrucomicrobia; c__Verrucomicrobiae; o__Verrucomicrobiales; f__Verrucomicrobiaceae; g__Persicirhabdus; s__\n",
      "Taxonomia conhecida para query 611192:\n",
      " k__Bacteria; p__Actinobacteria; c__Actinobacteria; o__Actinomycetales; f__Micromonosporaceae; g__Catellatospora; s__\n",
      "Taxonomia conhecida para query 709371:\n",
      " k__Bacteria; p__Proteobacteria; c__Alphaproteobacteria; o__Rhodospirillales; f__Acetobacteraceae; g__Roseomonas; s__\n",
      "Taxonomia conhecida para query 113213:\n",
      " k__Bacteria; p__Proteobacteria; c__Alphaproteobacteria; o__Rhizobiales; f__Beijerinckiaceae; g__; s__\n",
      "Taxonomia conhecida para query 229373:\n",
      " k__Bacteria; p__Proteobacteria; c__Deltaproteobacteria; o__PB19; f__; g__; s__\n",
      "Taxonomia conhecida para query 306957:\n",
      " k__Bacteria; p__Proteobacteria; c__Deltaproteobacteria; o__Desulfovibrionales; f__Desulfovibrionaceae; g__; s__\n",
      "Taxonomia conhecida para query 786666:\n",
      " k__Bacteria; p__Proteobacteria; c__Deltaproteobacteria; o__DTB120; f__; g__; s__\n"
     ]
    }
   ],
   "source": [
    "get_right_taxonomies(current_queries)"
   ]
  },
  {
   "cell_type": "code",
   "execution_count": 64,
   "id": "aab720d1",
   "metadata": {},
   "outputs": [],
   "source": [
    "def evaluate_search(queries, reference_db, reference_taxonomy, search_function, taxonomy_levels, n=5, aligner=local_pairwise_align_ssw):\n",
    "    start_time = time.time()\n",
    "    search_results = search_function(current_queries, reference_db, n=n, aligner=aligner)\n",
    "    stop_time = time.time()\n",
    "    runtime = stop_time - start_time\n",
    "    per_query_runtime = runtime/len(queries)\n",
    "\n",
    "    data = []\n",
    "    indices = []\n",
    "    for q in queries:\n",
    "        q_id = q.metadata['id']\n",
    "        indices.append(q_id)\n",
    "        q_known_taxonomy = tuple(reference_taxonomy[q_id].split('; ')[:taxonomy_levels])\n",
    "        q_observed_taxonomy = collections.Counter()\n",
    "        for e in search_results['reference taxonomy'][q_id]:\n",
    "            q_observed_taxonomy[tuple(e.split('; ')[:taxonomy_levels])] +=1\n",
    "        q_observed_taxonomy = q_observed_taxonomy.most_common()[0][0]\n",
    "        data.append((q_known_taxonomy, q_observed_taxonomy))\n",
    "    index = pd.Index(indices, name = \"Query ID\")\n",
    "    data = pd.DataFrame(data, index=index, columns= ['Known taxonomy', 'Observed taxonomy'])\n",
    "    number_correct = np.sum(data['Known taxonomy'] == data['Observed taxonomy'])\n",
    "    fraction_correct = number_correct/data.shape[0]\n",
    "\n",
    "    return per_query_runtime, fraction_correct, data"
   ]
  },
  {
   "cell_type": "code",
   "execution_count": 65,
   "id": "9f4bdb25",
   "metadata": {},
   "outputs": [],
   "source": [
    "taxonomy_levels = 5"
   ]
  },
  {
   "cell_type": "code",
   "execution_count": 66,
   "id": "849370a2",
   "metadata": {},
   "outputs": [
    {
     "name": "stdout",
     "output_type": "stream",
     "text": [
      "2.92 segundos por query sequence\n",
      "80.00% respostas corretas\n",
      "Detalhes do resultado\n",
      "275984\n",
      "  ('k__Bacteria', 'p__Firmicutes', 'c__Clostridia', 'o__Clostridiales', 'f__Lachnospiraceae')\n",
      "  ('k__Bacteria', 'p__Firmicutes', 'c__Clostridia', 'o__Clostridiales', 'f__Lachnospiraceae')\n",
      "\n",
      "350149\n",
      "  ('k__Bacteria', 'p__Bacteroidetes', 'c__Bacteroidia', 'o__Bacteroidales', 'f__S24-7')\n",
      "  ('k__Bacteria', 'p__Bacteroidetes', 'c__Bacteroidia', 'o__Bacteroidales', 'f__S24-7')\n",
      "\n",
      "338906\n",
      "  ('k__Bacteria', 'p__Bacteroidetes', 'c__[Saprospirae]', 'o__[Saprospirales]', 'f__Saprospiraceae')\n",
      "  ('k__Bacteria', 'p__Bacteroidetes', 'c__[Saprospirae]', 'o__[Saprospirales]', 'f__Saprospiraceae')\n",
      "\n",
      "809179\n",
      "  ('k__Bacteria', 'p__Verrucomicrobia', 'c__Verrucomicrobiae', 'o__Verrucomicrobiales', 'f__Verrucomicrobiaceae')\n",
      "  ('k__Bacteria', 'p__Verrucomicrobia', 'c__Verrucomicrobiae', 'o__Verrucomicrobiales', 'f__Verrucomicrobiaceae')\n",
      "\n",
      "611192\n",
      "  ('k__Bacteria', 'p__Actinobacteria', 'c__Actinobacteria', 'o__Actinomycetales', 'f__Micromonosporaceae')\n",
      "  ('k__Bacteria', 'p__Actinobacteria', 'c__Actinobacteria', 'o__Actinomycetales', 'f__Cellulomonadaceae')\n",
      "\n",
      "709371\n",
      "  ('k__Bacteria', 'p__Proteobacteria', 'c__Alphaproteobacteria', 'o__Rhodospirillales', 'f__Acetobacteraceae')\n",
      "  ('k__Bacteria', 'p__Proteobacteria', 'c__Alphaproteobacteria', 'o__Rhodospirillales', 'f__Acetobacteraceae')\n",
      "\n",
      "113213\n",
      "  ('k__Bacteria', 'p__Proteobacteria', 'c__Alphaproteobacteria', 'o__Rhizobiales', 'f__Beijerinckiaceae')\n",
      "  ('k__Bacteria', 'p__Proteobacteria', 'c__Alphaproteobacteria', 'o__Rhizobiales', 'f__Methylocystaceae')\n",
      "\n",
      "229373\n",
      "  ('k__Bacteria', 'p__Proteobacteria', 'c__Deltaproteobacteria', 'o__PB19', 'f__')\n",
      "  ('k__Bacteria', 'p__Proteobacteria', 'c__Deltaproteobacteria', 'o__PB19', 'f__')\n",
      "\n",
      "306957\n",
      "  ('k__Bacteria', 'p__Proteobacteria', 'c__Deltaproteobacteria', 'o__Desulfovibrionales', 'f__Desulfovibrionaceae')\n",
      "  ('k__Bacteria', 'p__Proteobacteria', 'c__Deltaproteobacteria', 'o__Desulfovibrionales', 'f__Desulfovibrionaceae')\n",
      "\n",
      "786666\n",
      "  ('k__Bacteria', 'p__Proteobacteria', 'c__Deltaproteobacteria', 'o__DTB120', 'f__')\n",
      "  ('k__Bacteria', 'p__Proteobacteria', 'c__Deltaproteobacteria', 'o__DTB120', 'f__')\n",
      "\n"
     ]
    }
   ],
   "source": [
    "runtime, fraction_correct, data = evaluate_search(current_queries, reference_db, reference_taxonomy, local_alignment_search, taxonomy_levels=taxonomy_levels)\n",
    "\n",
    "def get_results_search_evaluation(runtime, fraction_correct, data):\n",
    "    print(f\"{runtime:1.2f} segundos por query sequence\")\n",
    "    print(f\"{(fraction_correct * 100.0):1.2f}% respostas corretas\")\n",
    "    print(\"Detalhes do resultado\")\n",
    "    for q_id in data.index:\n",
    "        print(q_id)\n",
    "        print(' ', data['Known taxonomy'][q_id])\n",
    "        print(' ', data['Observed taxonomy'][q_id])\n",
    "        print()\n",
    "\n",
    "get_results_search_evaluation(runtime, fraction_correct, data)\n"
   ]
  },
  {
   "cell_type": "code",
   "execution_count": 67,
   "id": "3feb8fde",
   "metadata": {},
   "outputs": [
    {
     "name": "stdout",
     "output_type": "stream",
     "text": [
      "0.29 segundos por query sequence\n",
      "20.00% respostas corretas\n",
      "Detalhes do resultado\n",
      "275984\n",
      "  ('k__Bacteria', 'p__Firmicutes', 'c__Clostridia', 'o__Clostridiales', 'f__Lachnospiraceae')\n",
      "  ('k__Bacteria', 'p__Firmicutes', 'c__Clostridia', 'o__Clostridiales', 'f__Lachnospiraceae')\n",
      "\n",
      "350149\n",
      "  ('k__Bacteria', 'p__Bacteroidetes', 'c__Bacteroidia', 'o__Bacteroidales', 'f__S24-7')\n",
      "  ('k__Bacteria', 'p__Bacteroidetes', 'c__Bacteroidia', 'o__Bacteroidales', 'f__S24-7')\n",
      "\n",
      "338906\n",
      "  ('k__Bacteria', 'p__Bacteroidetes', 'c__[Saprospirae]', 'o__[Saprospirales]', 'f__Saprospiraceae')\n",
      "  ('k__Bacteria', 'p__Bacteroidetes', 'c__Flavobacteriia', 'o__Flavobacteriales', 'f__Cryomorphaceae')\n",
      "\n",
      "809179\n",
      "  ('k__Bacteria', 'p__Verrucomicrobia', 'c__Verrucomicrobiae', 'o__Verrucomicrobiales', 'f__Verrucomicrobiaceae')\n",
      "  ('k__Bacteria', 'p__Verrucomicrobia', 'c__Opitutae', 'o__Puniceicoccales', 'f__Puniceicoccaceae')\n",
      "\n",
      "611192\n",
      "  ('k__Bacteria', 'p__Actinobacteria', 'c__Actinobacteria', 'o__Actinomycetales', 'f__Micromonosporaceae')\n",
      "  ('k__Bacteria', 'p__Actinobacteria', 'c__Actinobacteria', 'o__Actinomycetales', 'f__Geodermatophilaceae')\n",
      "\n",
      "709371\n",
      "  ('k__Bacteria', 'p__Proteobacteria', 'c__Alphaproteobacteria', 'o__Rhodospirillales', 'f__Acetobacteraceae')\n",
      "  ('k__Bacteria', 'p__Proteobacteria', 'c__Alphaproteobacteria', 'o__Rhodospirillales', 'f__Rhodospirillaceae')\n",
      "\n",
      "113213\n",
      "  ('k__Bacteria', 'p__Proteobacteria', 'c__Alphaproteobacteria', 'o__Rhizobiales', 'f__Beijerinckiaceae')\n",
      "  ('k__Bacteria', 'p__Proteobacteria', 'c__Alphaproteobacteria', 'o__Rhizobiales', 'f__Methylocystaceae')\n",
      "\n",
      "229373\n",
      "  ('k__Bacteria', 'p__Proteobacteria', 'c__Deltaproteobacteria', 'o__PB19', 'f__')\n",
      "  ('k__Bacteria', 'p__Proteobacteria', 'c__Alphaproteobacteria', 'o__Sphingomonadales', 'f__Sphingomonadaceae')\n",
      "\n",
      "306957\n",
      "  ('k__Bacteria', 'p__Proteobacteria', 'c__Deltaproteobacteria', 'o__Desulfovibrionales', 'f__Desulfovibrionaceae')\n",
      "  ('k__Bacteria', 'p__Proteobacteria', 'c__Deltaproteobacteria', 'o__Desulfuromonadales', 'f__Geobacteraceae')\n",
      "\n",
      "786666\n",
      "  ('k__Bacteria', 'p__Proteobacteria', 'c__Deltaproteobacteria', 'o__DTB120', 'f__')\n",
      "  ('k__Bacteria', 'p__Proteobacteria', 'c__Deltaproteobacteria', 'o__Desulfuromonadales', 'f__Geobacteraceae')\n",
      "\n"
     ]
    }
   ],
   "source": [
    "heuristic_local_alignment_search_10 = functools.partial(heuristic_local_alignment_search_random, p=0.10)\n",
    "runtime, fraction_correct, data = evaluate_search(current_queries, reference_db, reference_taxonomy, heuristic_local_alignment_search_10, taxonomy_levels=taxonomy_levels)\n",
    "\n",
    "get_results_search_evaluation(runtime, fraction_correct, data)"
   ]
  },
  {
   "cell_type": "markdown",
   "id": "92794fc5",
   "metadata": {},
   "source": [
    "#### Composition-based reference sequence collection\n",
    "\n",
    "- GC-Content - procurar em sequências referências similares à query sequence. Em experimentos de PCR, o conteúdo GC de primers é usado para prever a temperatura de anelamento ao molde de DNA. Um maior conteúdo GC indica, relativamente, uma maior temperatura de anelamento. Geralmente sequências com esse parâmetro semelhante são mais similares pois indica menor quantidade de substituições."
   ]
  },
  {
   "cell_type": "code",
   "execution_count": 68,
   "id": "cd0ea17f",
   "metadata": {},
   "outputs": [],
   "source": [
    "def heuristic_local_alignment_search_gc(queries, reference_db, database_subset_size, n=5, aligner = local_pairwise_align_ssw, reference_db_gc_contents = None):\n",
    "    #abordagem deterministica\n",
    "    results = []\n",
    "\n",
    "    if reference_db_gc_contents is None:\n",
    "        reference_db_gc_contents = \\\n",
    "            {r.metadata['id']: r.gc_content() for r in reference_db}\n",
    "            \n",
    "    for q in queries:\n",
    "        query_gc_content = q.gc_content()\n",
    "        database_subset = []\n",
    "        for r in reference_db:\n",
    "            ref_gc_content = reference_db_gc_contents[r.metadata['id']]\n",
    "            # encontrar a diferenca entre a referencia e a query e ordenar por esse valor\n",
    "            database_subset.append((abs(ref_gc_content - query_gc_content), r))\n",
    "        database_subset.sort(key=lambda x: x[0])\n",
    "        database_subset = [e[1] for e in database_subset[:database_subset_size]]\n",
    "        results.append(local_alignment_search([q], database_subset, n=n, aligner=aligner))\n",
    "\n",
    "    return pd.concat(results)"
   ]
  },
  {
   "cell_type": "code",
   "execution_count": 69,
   "id": "3f112062",
   "metadata": {},
   "outputs": [],
   "source": [
    "database_subset_size = 500"
   ]
  },
  {
   "cell_type": "code",
   "execution_count": 70,
   "id": "4d8d42fb",
   "metadata": {},
   "outputs": [
    {
     "name": "stdout",
     "output_type": "stream",
     "text": [
      "0.32 segundos por query sequence\n",
      "30.00% respostas corretas\n",
      "Detalhes do resultado\n",
      "275984\n",
      "  ('k__Bacteria', 'p__Firmicutes', 'c__Clostridia', 'o__Clostridiales', 'f__Lachnospiraceae')\n",
      "  ('k__Bacteria', 'p__Firmicutes', 'c__Clostridia', 'o__Clostridiales', 'f__Lachnospiraceae')\n",
      "\n",
      "350149\n",
      "  ('k__Bacteria', 'p__Bacteroidetes', 'c__Bacteroidia', 'o__Bacteroidales', 'f__S24-7')\n",
      "  ('k__Bacteria', 'p__Bacteroidetes', 'c__Sphingobacteriia', 'o__Sphingobacteriales', 'f__Sphingobacteriaceae')\n",
      "\n",
      "338906\n",
      "  ('k__Bacteria', 'p__Bacteroidetes', 'c__[Saprospirae]', 'o__[Saprospirales]', 'f__Saprospiraceae')\n",
      "  ('k__Bacteria', 'p__Bacteroidetes', 'c__[Saprospirae]', 'o__[Saprospirales]', 'f__Saprospiraceae')\n",
      "\n",
      "809179\n",
      "  ('k__Bacteria', 'p__Verrucomicrobia', 'c__Verrucomicrobiae', 'o__Verrucomicrobiales', 'f__Verrucomicrobiaceae')\n",
      "  ('k__Bacteria', 'p__Armatimonadetes', 'c__Armatimonadia', 'o__Armatimonadales', 'f__Armatimonadaceae')\n",
      "\n",
      "611192\n",
      "  ('k__Bacteria', 'p__Actinobacteria', 'c__Actinobacteria', 'o__Actinomycetales', 'f__Micromonosporaceae')\n",
      "  ('k__Bacteria', 'p__Actinobacteria', 'c__Actinobacteria', 'o__Actinomycetales', 'f__Cellulomonadaceae')\n",
      "\n",
      "709371\n",
      "  ('k__Bacteria', 'p__Proteobacteria', 'c__Alphaproteobacteria', 'o__Rhodospirillales', 'f__Acetobacteraceae')\n",
      "  ('k__Bacteria', 'p__Proteobacteria', 'c__Alphaproteobacteria', 'o__Rhodospirillales', 'f__Acetobacteraceae')\n",
      "\n",
      "113213\n",
      "  ('k__Bacteria', 'p__Proteobacteria', 'c__Alphaproteobacteria', 'o__Rhizobiales', 'f__Beijerinckiaceae')\n",
      "  ('k__Bacteria', 'p__Proteobacteria', 'c__Alphaproteobacteria', 'o__Caulobacterales', 'f__Caulobacteraceae')\n",
      "\n",
      "229373\n",
      "  ('k__Bacteria', 'p__Proteobacteria', 'c__Deltaproteobacteria', 'o__PB19', 'f__')\n",
      "  ('k__Bacteria', 'p__Proteobacteria', 'c__Epsilonproteobacteria', 'o__Campylobacterales', 'f__Helicobacteraceae')\n",
      "\n",
      "306957\n",
      "  ('k__Bacteria', 'p__Proteobacteria', 'c__Deltaproteobacteria', 'o__Desulfovibrionales', 'f__Desulfovibrionaceae')\n",
      "  ('k__Bacteria', 'p__Proteobacteria', 'c__Deltaproteobacteria', 'o__Desulfobacterales', 'f__Desulfobacteraceae')\n",
      "\n",
      "786666\n",
      "  ('k__Bacteria', 'p__Proteobacteria', 'c__Deltaproteobacteria', 'o__DTB120', 'f__')\n",
      "  ('k__Bacteria', 'p__Proteobacteria', 'c__Deltaproteobacteria', 'o__Myxococcales', 'f__')\n",
      "\n"
     ]
    }
   ],
   "source": [
    "heuristic_local_alignment_search_gc_2 = functools.partial(heuristic_local_alignment_search_gc, database_subset_size=database_subset_size)\n",
    "\n",
    "runtime, fraction_correct, data = evaluate_search(current_queries, reference_db, reference_taxonomy, heuristic_local_alignment_search_gc_2, taxonomy_levels=taxonomy_levels)\n",
    "\n",
    "get_results_search_evaluation(runtime, fraction_correct, data)\n"
   ]
  },
  {
   "cell_type": "markdown",
   "id": "2b0507ab",
   "metadata": {},
   "source": [
    "- **k-mer content:** k-mers são nucleotídeos adjacentes de tamanho k de uma sequência.  K-mers são como uma extensão da ideia do GC-content, considerando GC como um estado e AT como outro."
   ]
  },
  {
   "cell_type": "code",
   "execution_count": 71,
   "id": "a1065fdf",
   "metadata": {},
   "outputs": [
    {
     "data": {
      "text/plain": [
       "{'ACCGT': 1,\n",
       " 'CCGTC': 1,\n",
       " 'CGTCA': 1,\n",
       " 'GTCAC': 1,\n",
       " 'TCACA': 1,\n",
       " 'CACAC': 1,\n",
       " 'ACACC': 1,\n",
       " 'CACCT': 1,\n",
       " 'ACCTG': 1,\n",
       " 'CCTGA': 1,\n",
       " 'CTGAC': 1,\n",
       " 'TGACC': 1,\n",
       " 'GACCA': 1,\n",
       " 'ACCAA': 1}"
      ]
     },
     "execution_count": 71,
     "metadata": {},
     "output_type": "execute_result"
    }
   ],
   "source": [
    "skbio.DNA('ACCGTCACACCTGACCAA').kmer_frequencies(k=5, overlap=True)"
   ]
  },
  {
   "cell_type": "code",
   "execution_count": 72,
   "id": "043997a3",
   "metadata": {},
   "outputs": [
    {
     "data": {
      "text/plain": [
       "{'A': 6, 'C': 8, 'G': 2, 'T': 2}"
      ]
     },
     "execution_count": 72,
     "metadata": {},
     "output_type": "execute_result"
    }
   ],
   "source": [
    "skbio.DNA('ACCGTCACACCTGACCAA').kmer_frequencies(k=1, overlap=True)"
   ]
  },
  {
   "cell_type": "markdown",
   "id": "7212085d",
   "metadata": {},
   "source": [
    "Blast faz algo muito semelhante à busca utilizando k-mers. Ele procura por matches entre a query sequence e a reference sequence e só alinha se elas tiverem um determinado número de k-mers compartilhado entre elas."
   ]
  },
  {
   "cell_type": "code",
   "execution_count": 73,
   "id": "a069ad0d",
   "metadata": {},
   "outputs": [],
   "source": [
    "def fraction_shared_kmers(kmer_freqs1, kmer_freqs2):\n",
    "    \"\"\"Compute the fraction of kmers in kmer_freqs1 that are also in kmer_freqs2\n",
    "    Parameters\n",
    "    ----------\n",
    "    kmer_freqs1, kmer_freqs2\n",
    "    Returns\n",
    "    -------\n",
    "    float\n",
    "    Raises\n",
    "    -------\n",
    "    ValueError\n",
    "        If k < 1\n",
    "    Notes\n",
    "    -------\n",
    "    k-mer counts are not incorporated in this distance metric\"\"\"\n",
    "    sequence1_kmers = set(kmer_freqs1)\n",
    "    num_sequence1_kmers = len(sequence1_kmers)\n",
    "    sequence2_kmers = set(kmer_freqs2)\n",
    "    shared_kmers = sequence1_kmers & sequence2_kmers\n",
    "    return len(shared_kmers)/num_sequence1_kmers"
   ]
  },
  {
   "cell_type": "code",
   "execution_count": 74,
   "id": "78967941",
   "metadata": {},
   "outputs": [],
   "source": [
    "def heuristic_local_alignment_search_kmers(queries, reference_db, database_subset_size, k, n=5, aligner = local_pairwise_align_ssw, reference_db_kmer_frequencies = None):\n",
    "    #abordagem deterministica\n",
    "    results = []\n",
    "\n",
    "    if reference_db_kmer_frequencies is None:\n",
    "        reference_db_kmer_frequencies = \\\n",
    "            {r.metadata['id']: r.kmer_frequencies(k=k, overlap=True) for r in reference_db}\n",
    "            \n",
    "    for q in queries:\n",
    "        query_kmer_frequency = q.kmer_frequencies(k=k, overlap=True)\n",
    "        database_subset = []\n",
    "        for r in reference_db:\n",
    "            ref_kmer_frequency = reference_db_kmer_frequencies[r.metadata['id']]\n",
    "            s = fraction_shared_kmers(query_kmer_frequency, ref_kmer_frequency)\n",
    "            database_subset.append((s, r))\n",
    "        database_subset.sort(key=lambda x: x[0], reverse=True)\n",
    "        database_subset = [e[1] for e in database_subset[:database_subset_size]]\n",
    "        results.append(local_alignment_search([q], database_subset, n=n, aligner=aligner))\n",
    "\n",
    "    return pd.concat(results)"
   ]
  },
  {
   "cell_type": "code",
   "execution_count": 75,
   "id": "cb63035a",
   "metadata": {},
   "outputs": [],
   "source": [
    "k=7"
   ]
  },
  {
   "cell_type": "code",
   "execution_count": 76,
   "id": "93dd3e5a",
   "metadata": {},
   "outputs": [
    {
     "name": "stdout",
     "output_type": "stream",
     "text": [
      "3.65 segundos por query sequence\n",
      "80.00% respostas corretas\n",
      "Detalhes do resultado\n",
      "275984\n",
      "  ('k__Bacteria', 'p__Firmicutes', 'c__Clostridia', 'o__Clostridiales', 'f__Lachnospiraceae')\n",
      "  ('k__Bacteria', 'p__Firmicutes', 'c__Clostridia', 'o__Clostridiales', 'f__Lachnospiraceae')\n",
      "\n",
      "350149\n",
      "  ('k__Bacteria', 'p__Bacteroidetes', 'c__Bacteroidia', 'o__Bacteroidales', 'f__S24-7')\n",
      "  ('k__Bacteria', 'p__Bacteroidetes', 'c__Bacteroidia', 'o__Bacteroidales', 'f__S24-7')\n",
      "\n",
      "338906\n",
      "  ('k__Bacteria', 'p__Bacteroidetes', 'c__[Saprospirae]', 'o__[Saprospirales]', 'f__Saprospiraceae')\n",
      "  ('k__Bacteria', 'p__Bacteroidetes', 'c__[Saprospirae]', 'o__[Saprospirales]', 'f__Saprospiraceae')\n",
      "\n",
      "809179\n",
      "  ('k__Bacteria', 'p__Verrucomicrobia', 'c__Verrucomicrobiae', 'o__Verrucomicrobiales', 'f__Verrucomicrobiaceae')\n",
      "  ('k__Bacteria', 'p__Verrucomicrobia', 'c__Verrucomicrobiae', 'o__Verrucomicrobiales', 'f__Verrucomicrobiaceae')\n",
      "\n",
      "611192\n",
      "  ('k__Bacteria', 'p__Actinobacteria', 'c__Actinobacteria', 'o__Actinomycetales', 'f__Micromonosporaceae')\n",
      "  ('k__Bacteria', 'p__Actinobacteria', 'c__Actinobacteria', 'o__Actinomycetales', 'f__Cellulomonadaceae')\n",
      "\n",
      "709371\n",
      "  ('k__Bacteria', 'p__Proteobacteria', 'c__Alphaproteobacteria', 'o__Rhodospirillales', 'f__Acetobacteraceae')\n",
      "  ('k__Bacteria', 'p__Proteobacteria', 'c__Alphaproteobacteria', 'o__Rhodospirillales', 'f__Acetobacteraceae')\n",
      "\n",
      "113213\n",
      "  ('k__Bacteria', 'p__Proteobacteria', 'c__Alphaproteobacteria', 'o__Rhizobiales', 'f__Beijerinckiaceae')\n",
      "  ('k__Bacteria', 'p__Proteobacteria', 'c__Alphaproteobacteria', 'o__Rhizobiales', 'f__Methylocystaceae')\n",
      "\n",
      "229373\n",
      "  ('k__Bacteria', 'p__Proteobacteria', 'c__Deltaproteobacteria', 'o__PB19', 'f__')\n",
      "  ('k__Bacteria', 'p__Proteobacteria', 'c__Deltaproteobacteria', 'o__PB19', 'f__')\n",
      "\n",
      "306957\n",
      "  ('k__Bacteria', 'p__Proteobacteria', 'c__Deltaproteobacteria', 'o__Desulfovibrionales', 'f__Desulfovibrionaceae')\n",
      "  ('k__Bacteria', 'p__Proteobacteria', 'c__Deltaproteobacteria', 'o__Desulfovibrionales', 'f__Desulfovibrionaceae')\n",
      "\n",
      "786666\n",
      "  ('k__Bacteria', 'p__Proteobacteria', 'c__Deltaproteobacteria', 'o__DTB120', 'f__')\n",
      "  ('k__Bacteria', 'p__Proteobacteria', 'c__Deltaproteobacteria', 'o__DTB120', 'f__')\n",
      "\n"
     ]
    }
   ],
   "source": [
    "heuristic_local_alignment_search_kmers_50 = functools.partial(heuristic_local_alignment_search_kmers, k=k, database_subset_size=database_subset_size)\n",
    "\n",
    "runtime, fraction_correct, data = evaluate_search(current_queries, reference_db, reference_taxonomy, heuristic_local_alignment_search_kmers_50, taxonomy_levels=taxonomy_levels)\n",
    "\n",
    "get_results_search_evaluation(runtime, fraction_correct, data)\n"
   ]
  },
  {
   "cell_type": "markdown",
   "id": "caff1857",
   "metadata": {},
   "source": [
    "Conseguimos resultados semelhantes ao do full database method mas o runtime aumenta muito. Então como melhoramos isso?"
   ]
  },
  {
   "cell_type": "markdown",
   "id": "a3cd0129",
   "metadata": {},
   "source": [
    "#### Further optimizing composition-based approaches by pre-computing reference \n",
    "Podemos aplicar isso ao método do GC-content tanbém. Assim inserimos esse overhead apenas uma vez e as próximas buscas serão muito mais rápidas."
   ]
  },
  {
   "cell_type": "code",
   "execution_count": 77,
   "id": "0c56b8fe",
   "metadata": {},
   "outputs": [],
   "source": [
    "reference_db_kmer_frequencies =  {r.metadata['id']: r.kmer_frequencies(k=k, overlap=True) for r in reference_db}"
   ]
  },
  {
   "cell_type": "code",
   "execution_count": 78,
   "id": "50e155e7",
   "metadata": {},
   "outputs": [
    {
     "name": "stdout",
     "output_type": "stream",
     "text": [
      "0.54 segundos por query sequence\n",
      "80.00% respostas corretas\n",
      "Detalhes do resultado\n",
      "275984\n",
      "  ('k__Bacteria', 'p__Firmicutes', 'c__Clostridia', 'o__Clostridiales', 'f__Lachnospiraceae')\n",
      "  ('k__Bacteria', 'p__Firmicutes', 'c__Clostridia', 'o__Clostridiales', 'f__Lachnospiraceae')\n",
      "\n",
      "350149\n",
      "  ('k__Bacteria', 'p__Bacteroidetes', 'c__Bacteroidia', 'o__Bacteroidales', 'f__S24-7')\n",
      "  ('k__Bacteria', 'p__Bacteroidetes', 'c__Bacteroidia', 'o__Bacteroidales', 'f__S24-7')\n",
      "\n",
      "338906\n",
      "  ('k__Bacteria', 'p__Bacteroidetes', 'c__[Saprospirae]', 'o__[Saprospirales]', 'f__Saprospiraceae')\n",
      "  ('k__Bacteria', 'p__Bacteroidetes', 'c__[Saprospirae]', 'o__[Saprospirales]', 'f__Saprospiraceae')\n",
      "\n",
      "809179\n",
      "  ('k__Bacteria', 'p__Verrucomicrobia', 'c__Verrucomicrobiae', 'o__Verrucomicrobiales', 'f__Verrucomicrobiaceae')\n",
      "  ('k__Bacteria', 'p__Verrucomicrobia', 'c__Verrucomicrobiae', 'o__Verrucomicrobiales', 'f__Verrucomicrobiaceae')\n",
      "\n",
      "611192\n",
      "  ('k__Bacteria', 'p__Actinobacteria', 'c__Actinobacteria', 'o__Actinomycetales', 'f__Micromonosporaceae')\n",
      "  ('k__Bacteria', 'p__Actinobacteria', 'c__Actinobacteria', 'o__Actinomycetales', 'f__Cellulomonadaceae')\n",
      "\n",
      "709371\n",
      "  ('k__Bacteria', 'p__Proteobacteria', 'c__Alphaproteobacteria', 'o__Rhodospirillales', 'f__Acetobacteraceae')\n",
      "  ('k__Bacteria', 'p__Proteobacteria', 'c__Alphaproteobacteria', 'o__Rhodospirillales', 'f__Acetobacteraceae')\n",
      "\n",
      "113213\n",
      "  ('k__Bacteria', 'p__Proteobacteria', 'c__Alphaproteobacteria', 'o__Rhizobiales', 'f__Beijerinckiaceae')\n",
      "  ('k__Bacteria', 'p__Proteobacteria', 'c__Alphaproteobacteria', 'o__Rhizobiales', 'f__Methylocystaceae')\n",
      "\n",
      "229373\n",
      "  ('k__Bacteria', 'p__Proteobacteria', 'c__Deltaproteobacteria', 'o__PB19', 'f__')\n",
      "  ('k__Bacteria', 'p__Proteobacteria', 'c__Deltaproteobacteria', 'o__PB19', 'f__')\n",
      "\n",
      "306957\n",
      "  ('k__Bacteria', 'p__Proteobacteria', 'c__Deltaproteobacteria', 'o__Desulfovibrionales', 'f__Desulfovibrionaceae')\n",
      "  ('k__Bacteria', 'p__Proteobacteria', 'c__Deltaproteobacteria', 'o__Desulfovibrionales', 'f__Desulfovibrionaceae')\n",
      "\n",
      "786666\n",
      "  ('k__Bacteria', 'p__Proteobacteria', 'c__Deltaproteobacteria', 'o__DTB120', 'f__')\n",
      "  ('k__Bacteria', 'p__Proteobacteria', 'c__Deltaproteobacteria', 'o__DTB120', 'f__')\n",
      "\n"
     ]
    }
   ],
   "source": [
    "heuristic_local_alignment_search_kmers_50 = functools.partial(heuristic_local_alignment_search_kmers, reference_db_kmer_frequencies=reference_db_kmer_frequencies, k=k, database_subset_size=database_subset_size)\n",
    "\n",
    "runtime, fraction_correct, data = evaluate_search(current_queries, reference_db, reference_taxonomy, heuristic_local_alignment_search_kmers_50, taxonomy_levels=taxonomy_levels)\n",
    "\n",
    "get_results_search_evaluation(runtime, fraction_correct, data)\n"
   ]
  },
  {
   "cell_type": "markdown",
   "id": "cc31f86e",
   "metadata": {},
   "source": [
    "## Como determinar se um alinhamento é estatisticamente significante?"
   ]
  },
  {
   "cell_type": "markdown",
   "id": "0820238a",
   "metadata": {},
   "source": [
    "\n",
    "Interpretando scores de alinhamento: que fração de tempo eu obteria um score pelo menos tão bom quanto essse se minhas sequências não fossem homólogas? (definição de p-value sendo H0 - sequências não são homólogas e Ha - sequências são homólogas. Se p < alpha (geralmente 0.05), aceitamos a hipótese alternativa). Se p >= alpha, falhamos em rejeitar a hipótese nula, ou seja, não coletamos evidências suficientes para apoiar a alternativa.\n",
    "\n",
    "Erro tipo I: falso positivo (dizemos que sequências são homólogas quando não são)\n",
    "Erro tipo II: falso negativo (dizemos que sequências não são homólogas quando são)\n",
    "\n",
    "Quanto menor o alpha, teremos mais falsos negativos. Quando esse valor for alto, teremos mais falsos positivos. Para escolhermos, portanto, temos que pensar no que é mais aceitável (falso negativo ou falso positivo) no cenário que estamos trabalhando."
   ]
  },
  {
   "cell_type": "code",
   "execution_count": 79,
   "id": "e4ebd71f",
   "metadata": {},
   "outputs": [],
   "source": [
    "def random_sequence(moltype, length):\n",
    "    result = []\n",
    "    alphabet = list(moltype.nondegenerate_chars)\n",
    "    for e in range(length):\n",
    "        result.append(random.choice(alphabet))\n",
    "    return moltype(''.join(result))"
   ]
  },
  {
   "cell_type": "code",
   "execution_count": 80,
   "id": "e1ea8df0",
   "metadata": {},
   "outputs": [
    {
     "data": {
      "text/plain": [
       "DNA\n",
       "--------------------------------------------------------\n",
       "Stats:\n",
       "    length: 50\n",
       "    has gaps: False\n",
       "    has degenerates: False\n",
       "    has definites: True\n",
       "    GC-content: 40.00%\n",
       "--------------------------------------------------------\n",
       "0 CTTATGCCCA CCCAGAATGG ATGTCAAACT CATTGTGATT GAAAACTGAA"
      ]
     },
     "execution_count": 80,
     "metadata": {},
     "output_type": "execute_result"
    }
   ],
   "source": [
    "seq = random_sequence(skbio.DNA, 50)\n",
    "seq"
   ]
  },
  {
   "cell_type": "code",
   "execution_count": 81,
   "id": "085e41ac",
   "metadata": {},
   "outputs": [],
   "source": [
    "def shuffle_sequence(sequence):\n",
    "    # lista com os indices\n",
    "    randomized_order = list(range(len(sequence)))\n",
    "\n",
    "    # rearranjamos randomicamente essa ordem\n",
    "    random.shuffle(randomized_order)\n",
    "\n",
    "    # retornamos uma nova sequencia com as ordens embaralhadas\n",
    "    return sequence[randomized_order]"
   ]
  },
  {
   "cell_type": "code",
   "execution_count": 82,
   "id": "12c372d4",
   "metadata": {},
   "outputs": [
    {
     "data": {
      "text/plain": [
       "DNA\n",
       "--------------------------------------------------------\n",
       "Stats:\n",
       "    length: 50\n",
       "    has gaps: False\n",
       "    has degenerates: False\n",
       "    has definites: True\n",
       "    GC-content: 40.00%\n",
       "--------------------------------------------------------\n",
       "0 GTCCTAATCG TATGATAATG CGGCGTAAAC GTTACTAATC GAACAAATCC"
      ]
     },
     "execution_count": 82,
     "metadata": {},
     "output_type": "execute_result"
    }
   ],
   "source": [
    "shuffle_sequence(seq) # a composicao é a msm, apenas muda a ordem"
   ]
  },
  {
   "cell_type": "code",
   "execution_count": 83,
   "id": "c84f6e33",
   "metadata": {},
   "outputs": [
    {
     "name": "stdout",
     "output_type": "stream",
     "text": [
      "Score: 100.00\n"
     ]
    }
   ],
   "source": [
    "query_seq = random_sequence(skbio.DNA, 50)\n",
    "_, actual_score, _ = local_pairwise_align_ssw(query_seq, query_seq)\n",
    "print(f\"Score: {actual_score:1.2f}\")"
   ]
  },
  {
   "cell_type": "code",
   "execution_count": 84,
   "id": "c4799941",
   "metadata": {},
   "outputs": [
    {
     "name": "stdout",
     "output_type": "stream",
     "text": [
      "Score: 100.00\n"
     ]
    }
   ],
   "source": [
    "query_seq1 = random_sequence(skbio.DNA, 50)\n",
    "query_seq2 = random_sequence(skbio.DNA, 50)\n",
    "_, actual_score2, _ = local_pairwise_align_ssw(query_seq1, query_seq2)\n",
    "print(f\"Score: {actual_score:1.2f}\")"
   ]
  },
  {
   "cell_type": "markdown",
   "id": "bf1a9fe5",
   "metadata": {},
   "source": [
    "- Z-test: descobrir se o score encontrado é um outlier da distribuição. Descobrimos quantos desvios padrão acima ou abaixo da média da população a pontuação derivada de um z-teste é.\n",
    "\n",
    "Mas como fazer se não temos a distribuição de scores? Também não sabemos se é uma distribuição normal ou não.\n",
    "\n",
    "    - Determinamos como os scores seriam se a hipótese nula fosse verdade. Ou seja, como seria a distribuição de scores de alinhamento se as sequências não fossem homólogas."
   ]
  },
  {
   "cell_type": "code",
   "execution_count": 85,
   "id": "48783410",
   "metadata": {},
   "outputs": [],
   "source": [
    "def generate_random_score_distribution(sequence1, sequence2, n=99, aligner=local_pairwise_align_ssw):\n",
    "    # supondo que queremos comparar sequence1 com sequence2, faremos uma geração aleatoria de sequencias similares a sequence1 sabendo que nao sao homologas pois embaralhamos elas\n",
    "    scores = []\n",
    "    for i in range(n):\n",
    "        random_sequence = shuffle_sequence(sequence1)\n",
    "        _, score, _ = aligner(random_sequence, sequence2)\n",
    "        scores.append(score)\n",
    "\n",
    "    return scores"
   ]
  },
  {
   "cell_type": "code",
   "execution_count": 86,
   "id": "dea8d0b6",
   "metadata": {},
   "outputs": [
    {
     "data": {
      "text/plain": [
       "[12,\n",
       " 13,\n",
       " 10,\n",
       " 10,\n",
       " 14,\n",
       " 10,\n",
       " 12,\n",
       " 16,\n",
       " 9,\n",
       " 13,\n",
       " 12,\n",
       " 17,\n",
       " 8,\n",
       " 10,\n",
       " 11,\n",
       " 11,\n",
       " 12,\n",
       " 10,\n",
       " 13,\n",
       " 10,\n",
       " 14,\n",
       " 14,\n",
       " 10,\n",
       " 10,\n",
       " 11,\n",
       " 10,\n",
       " 13,\n",
       " 12,\n",
       " 10,\n",
       " 14,\n",
       " 10,\n",
       " 16,\n",
       " 16,\n",
       " 12,\n",
       " 10,\n",
       " 12,\n",
       " 14,\n",
       " 14,\n",
       " 10,\n",
       " 12,\n",
       " 14,\n",
       " 12,\n",
       " 14,\n",
       " 10,\n",
       " 11,\n",
       " 10,\n",
       " 12,\n",
       " 8,\n",
       " 12,\n",
       " 8,\n",
       " 10,\n",
       " 12,\n",
       " 11,\n",
       " 13,\n",
       " 12,\n",
       " 9,\n",
       " 11,\n",
       " 10,\n",
       " 10,\n",
       " 11,\n",
       " 17,\n",
       " 10,\n",
       " 12,\n",
       " 10,\n",
       " 13,\n",
       " 10,\n",
       " 10,\n",
       " 10,\n",
       " 10,\n",
       " 11,\n",
       " 14,\n",
       " 9,\n",
       " 8,\n",
       " 11,\n",
       " 12,\n",
       " 9,\n",
       " 12,\n",
       " 15,\n",
       " 8,\n",
       " 12,\n",
       " 9,\n",
       " 12,\n",
       " 14,\n",
       " 10,\n",
       " 12,\n",
       " 10,\n",
       " 10,\n",
       " 14,\n",
       " 12,\n",
       " 10,\n",
       " 10,\n",
       " 15,\n",
       " 12,\n",
       " 15,\n",
       " 16,\n",
       " 10,\n",
       " 11,\n",
       " 15,\n",
       " 13]"
      ]
     },
     "execution_count": 86,
     "metadata": {},
     "output_type": "execute_result"
    }
   ],
   "source": [
    "random_scores = generate_random_score_distribution(query_seq, query_seq, 99)\n",
    "random_scores"
   ]
  },
  {
   "cell_type": "code",
   "execution_count": 88,
   "id": "6575149c",
   "metadata": {},
   "outputs": [],
   "source": [
    "def plot_score_distribution(actual_score, random_scores):\n",
    "    ax = sns.distplot(random_scores, kde=False, label=\"Random scores\", color=\"b\")\n",
    "    ax.plot([actual_score, actual_score], ax.get_ylim(), '--', label=\"Actual score\")\n",
    "    ax.set_xlim(0, actual_score + actual_score*0.1)\n",
    "    ax.legend(loc=9, fontsize='large')\n",
    "    return ax\n"
   ]
  },
  {
   "cell_type": "code",
   "execution_count": 89,
   "id": "31c40207",
   "metadata": {},
   "outputs": [
    {
     "data": {
      "text/plain": [
       "<AxesSubplot:>"
      ]
     },
     "execution_count": 89,
     "metadata": {},
     "output_type": "execute_result"
    },
    {
     "data": {
      "image/png": "[encoded data removed]",
      "text/plain": [
       "<Figure size 640x480 with 1 Axes>"
      ]
     },
     "metadata": {},
     "output_type": "display_data"
    }
   ],
   "source": [
    "plot_score_distribution(actual_score, random_scores)\n",
    "\n",
    "# vemos que o score real é um outlier da distribuicao randomizada de scores  "
   ]
  },
  {
   "cell_type": "code",
   "execution_count": 90,
   "id": "63b6903e",
   "metadata": {},
   "outputs": [],
   "source": [
    "def fraction_better_or_equivalent_alignments(sequence1, sequence2, n=99, aligner=local_pairwise_align_ssw):\n",
    "    # alinhar seq1 e seq2 e armazenar o score desse alinhamento\n",
    "    _, actual_score, _ = aligner(sequence1, sequence2)\n",
    "    \n",
    "    # computar a distribuicao de scores randomizada\n",
    "    random_scores = generate_random_score_distribution(sequence1, sequence2, n, aligner=aligner)\n",
    "\n",
    "    # contar numero de scores randomicos que são tão bons quanto nosso score real\n",
    "    count_better = 0\n",
    "    for s in random_scores:\n",
    "        if s >= actual_score:\n",
    "            count_better += 1\n",
    "\n",
    "    # retornar numero de vezes que observamos que o score é tão bom quanto o random score dividido pelo numero de scores computados. \n",
    "    # (+ 1 no denominador e numerador para representar nosso actual_score)\n",
    "    return (count_better + 1)/(n + 1)"
   ]
  },
  {
   "cell_type": "code",
   "execution_count": 92,
   "id": "a20eacbf",
   "metadata": {},
   "outputs": [
    {
     "data": {
      "text/plain": [
       "'Fraction of alignment scores at least as good as the alignment score: 0.01'"
      ]
     },
     "execution_count": 92,
     "metadata": {},
     "output_type": "execute_result"
    }
   ],
   "source": [
    "f\"Fraction of alignment scores at least as good as the alignment score: {fraction_better_or_equivalent_alignments(query_seq, query_seq, 99)}\""
   ]
  },
  {
   "cell_type": "markdown",
   "id": "5a966a09",
   "metadata": {},
   "source": [
    "p-value = 0.01, pois nunca observamos random scores maiores que o score real e sabemos que as sequências são homólogas"
   ]
  },
  {
   "cell_type": "code",
   "execution_count": 93,
   "id": "05bcd1a0",
   "metadata": {},
   "outputs": [
    {
     "data": {
      "text/plain": [
       "'Fraction of alignment scores at least as good as the alignment score: 0.001'"
      ]
     },
     "execution_count": 93,
     "metadata": {},
     "output_type": "execute_result"
    }
   ],
   "source": [
    "f\"Fraction of alignment scores at least as good as the alignment score: {fraction_better_or_equivalent_alignments(query_seq, query_seq, 999)}\"\n",
    "# p-value = 0.001"
   ]
  },
  {
   "cell_type": "code",
   "execution_count": 94,
   "id": "8176a7a1",
   "metadata": {},
   "outputs": [
    {
     "data": {
      "text/plain": [
       "'Fraction of alignment scores at least as good as the alignment score: 0.93'"
      ]
     },
     "execution_count": 94,
     "metadata": {},
     "output_type": "execute_result"
    }
   ],
   "source": [
    "sequence1 = random_sequence(skbio.DNA, 250)\n",
    "sequence2 = random_sequence(skbio.DNA, 250)\n",
    "\n",
    "f\"Fraction of alignment scores at least as good as the alignment score: {fraction_better_or_equivalent_alignments(sequence1, sequence2)}\""
   ]
  },
  {
   "cell_type": "markdown",
   "id": "6a31f1a8",
   "metadata": {},
   "source": [
    "Agora, temos um alinhamento não significativo, logo não temos evidências para dizer que são homólogas (de fato sabemos que não são pois foram randomizadas)"
   ]
  },
  {
   "cell_type": "code",
   "execution_count": 96,
   "id": "65537e2b",
   "metadata": {},
   "outputs": [],
   "source": [
    "def partially_randomize_sequence(percent_id, sequence):\n",
    "    # testar pra sequencias parcialmente randomizadas (nao sabemos se serao homologas ou nao)\n",
    "    result = []\n",
    "\n",
    "    for c in sequence:\n",
    "        if random.random() < percent_id:\n",
    "            result.append(str(c))\n",
    "        else:\n",
    "            result.append(random.choice([r for r in sequence.nondegenerate_chars if r != c]))\n",
    "\n",
    "    return sequence.__class__(''.join(result))"
   ]
  },
  {
   "cell_type": "code",
   "execution_count": 97,
   "id": "c2538744",
   "metadata": {},
   "outputs": [
    {
     "data": {
      "text/plain": [
       "DNA\n",
       "---------------------------------------------------------------------\n",
       "Stats:\n",
       "    length: 250\n",
       "    has gaps: False\n",
       "    has degenerates: False\n",
       "    has definites: True\n",
       "    GC-content: 49.60%\n",
       "---------------------------------------------------------------------\n",
       "0   GGAGCAGGAT ATGAGGTGGT GTGTCGAATC TGGGGACTAT ACCAAGTCGT CTCCTGTGAA\n",
       "60  TCTTCGAATA CAATTGCAGG CGGAGTAAGA TCCAACTTGG TAAAACCTTC GAACCATATG\n",
       "120 TAATCAAATA AAAGGTAGGG CCGTCATTGT TCCGTAGTGA AACAGCAACC ACGGTGGGTG\n",
       "180 CCCTCCAGAA GTACTTGCGA GTACCGAGGG GCCGAGCGGT TTTACGGGTA CCGCCTCCTA\n",
       "240 TCTTCAGTAT"
      ]
     },
     "execution_count": 97,
     "metadata": {},
     "output_type": "execute_result"
    }
   ],
   "source": [
    "sequence1_95 = partially_randomize_sequence(.95, sequence1) # mutacoes ou substituicoes em aproximadamente 5% das posicoes de sequence1 \n",
    "sequence1_95"
   ]
  },
  {
   "cell_type": "code",
   "execution_count": 98,
   "id": "eca5c78b",
   "metadata": {},
   "outputs": [
    {
     "data": {
      "text/plain": [
       "'Fraction of alignment scores at least as good as the alignment score: 0.01'"
      ]
     },
     "execution_count": 98,
     "metadata": {},
     "output_type": "execute_result"
    }
   ],
   "source": [
    "f\"Fraction of alignment scores at least as good as the alignment score: {fraction_better_or_equivalent_alignments(sequence1, sequence1_95)}\""
   ]
  },
  {
   "cell_type": "markdown",
   "id": "4691fffb",
   "metadata": {},
   "source": [
    " Definindo mutações ou substituições em aproximadamente 5% das posições de sequence1: "
   ]
  },
  {
   "cell_type": "code",
   "execution_count": 100,
   "id": "089a31bf",
   "metadata": {},
   "outputs": [
    {
     "data": {
      "text/plain": [
       "'Fraction of alignment scores at least as good as the alignment score: 0.08'"
      ]
     },
     "execution_count": 100,
     "metadata": {},
     "output_type": "execute_result"
    }
   ],
   "source": [
    "sequence1_25 = partially_randomize_sequence(.25, sequence1)\n",
    "\n",
    "f\"Fraction of alignment scores at least as good as the alignment score: {fraction_better_or_equivalent_alignments(sequence1, sequence1_25)}\""
   ]
  },
  {
   "cell_type": "markdown",
   "id": "8ee83b59",
   "metadata": {},
   "source": [
    "Já não conseguimos determinar homologia (p-value > 0.1)"
   ]
  },
  {
   "cell_type": "markdown",
   "id": "906cc747",
   "metadata": {},
   "source": [
    "### Explorando o limite de detecção de busca por sequências homólogas\n",
    "\n",
    "Quão diferentes as sequências devem ser antes desse método parar de identificá-las como homólogas?"
   ]
  },
  {
   "cell_type": "markdown",
   "id": "15a6da76",
   "metadata": {},
   "source": [
    "**Conceito de percent identity**: número que descreve quão similar a query sequence é da target (quantos caracteres de cada sequência são idênticos)."
   ]
  },
  {
   "cell_type": "code",
   "execution_count": 102,
   "id": "e4fd3be4",
   "metadata": {},
   "outputs": [
    {
     "data": {
      "text/html": [
       "<div>\n",
       "<style scoped>\n",
       "    .dataframe tbody tr th:only-of-type {\n",
       "        vertical-align: middle;\n",
       "    }\n",
       "\n",
       "    .dataframe tbody tr th {\n",
       "        vertical-align: top;\n",
       "    }\n",
       "\n",
       "    .dataframe thead th {\n",
       "        text-align: right;\n",
       "    }\n",
       "</style>\n",
       "<table border=\"1\" class=\"dataframe\">\n",
       "  <thead>\n",
       "    <tr style=\"text-align: right;\">\n",
       "      <th></th>\n",
       "      <th>Percent id between query and subject</th>\n",
       "      <th>Median p-value</th>\n",
       "      <th>Mean p-value</th>\n",
       "    </tr>\n",
       "  </thead>\n",
       "  <tbody>\n",
       "    <tr>\n",
       "      <th>0</th>\n",
       "      <td>0.00</td>\n",
       "      <td>0.550</td>\n",
       "      <td>0.5565</td>\n",
       "    </tr>\n",
       "    <tr>\n",
       "      <th>1</th>\n",
       "      <td>0.05</td>\n",
       "      <td>0.420</td>\n",
       "      <td>0.4935</td>\n",
       "    </tr>\n",
       "    <tr>\n",
       "      <th>2</th>\n",
       "      <td>0.10</td>\n",
       "      <td>0.405</td>\n",
       "      <td>0.4965</td>\n",
       "    </tr>\n",
       "    <tr>\n",
       "      <th>3</th>\n",
       "      <td>0.15</td>\n",
       "      <td>0.505</td>\n",
       "      <td>0.5520</td>\n",
       "    </tr>\n",
       "    <tr>\n",
       "      <th>4</th>\n",
       "      <td>0.20</td>\n",
       "      <td>0.585</td>\n",
       "      <td>0.5415</td>\n",
       "    </tr>\n",
       "    <tr>\n",
       "      <th>5</th>\n",
       "      <td>0.25</td>\n",
       "      <td>0.225</td>\n",
       "      <td>0.3975</td>\n",
       "    </tr>\n",
       "    <tr>\n",
       "      <th>6</th>\n",
       "      <td>0.30</td>\n",
       "      <td>0.400</td>\n",
       "      <td>0.4445</td>\n",
       "    </tr>\n",
       "    <tr>\n",
       "      <th>7</th>\n",
       "      <td>0.35</td>\n",
       "      <td>0.145</td>\n",
       "      <td>0.3490</td>\n",
       "    </tr>\n",
       "    <tr>\n",
       "      <th>8</th>\n",
       "      <td>0.40</td>\n",
       "      <td>0.010</td>\n",
       "      <td>0.0810</td>\n",
       "    </tr>\n",
       "    <tr>\n",
       "      <th>9</th>\n",
       "      <td>0.45</td>\n",
       "      <td>0.010</td>\n",
       "      <td>0.0885</td>\n",
       "    </tr>\n",
       "    <tr>\n",
       "      <th>10</th>\n",
       "      <td>0.50</td>\n",
       "      <td>0.010</td>\n",
       "      <td>0.0320</td>\n",
       "    </tr>\n",
       "    <tr>\n",
       "      <th>11</th>\n",
       "      <td>0.55</td>\n",
       "      <td>0.010</td>\n",
       "      <td>0.0100</td>\n",
       "    </tr>\n",
       "    <tr>\n",
       "      <th>12</th>\n",
       "      <td>0.60</td>\n",
       "      <td>0.010</td>\n",
       "      <td>0.0100</td>\n",
       "    </tr>\n",
       "    <tr>\n",
       "      <th>13</th>\n",
       "      <td>0.65</td>\n",
       "      <td>0.010</td>\n",
       "      <td>0.0100</td>\n",
       "    </tr>\n",
       "    <tr>\n",
       "      <th>14</th>\n",
       "      <td>0.70</td>\n",
       "      <td>0.010</td>\n",
       "      <td>0.0100</td>\n",
       "    </tr>\n",
       "    <tr>\n",
       "      <th>15</th>\n",
       "      <td>0.75</td>\n",
       "      <td>0.010</td>\n",
       "      <td>0.0100</td>\n",
       "    </tr>\n",
       "    <tr>\n",
       "      <th>16</th>\n",
       "      <td>0.80</td>\n",
       "      <td>0.010</td>\n",
       "      <td>0.0100</td>\n",
       "    </tr>\n",
       "    <tr>\n",
       "      <th>17</th>\n",
       "      <td>0.85</td>\n",
       "      <td>0.010</td>\n",
       "      <td>0.0100</td>\n",
       "    </tr>\n",
       "    <tr>\n",
       "      <th>18</th>\n",
       "      <td>0.90</td>\n",
       "      <td>0.010</td>\n",
       "      <td>0.0100</td>\n",
       "    </tr>\n",
       "    <tr>\n",
       "      <th>19</th>\n",
       "      <td>0.95</td>\n",
       "      <td>0.010</td>\n",
       "      <td>0.0100</td>\n",
       "    </tr>\n",
       "  </tbody>\n",
       "</table>\n",
       "</div>"
      ],
      "text/plain": [
       "    Percent id between query and subject  Median p-value  Mean p-value\n",
       "0                                   0.00           0.550        0.5565\n",
       "1                                   0.05           0.420        0.4935\n",
       "2                                   0.10           0.405        0.4965\n",
       "3                                   0.15           0.505        0.5520\n",
       "4                                   0.20           0.585        0.5415\n",
       "5                                   0.25           0.225        0.3975\n",
       "6                                   0.30           0.400        0.4445\n",
       "7                                   0.35           0.145        0.3490\n",
       "8                                   0.40           0.010        0.0810\n",
       "9                                   0.45           0.010        0.0885\n",
       "10                                  0.50           0.010        0.0320\n",
       "11                                  0.55           0.010        0.0100\n",
       "12                                  0.60           0.010        0.0100\n",
       "13                                  0.65           0.010        0.0100\n",
       "14                                  0.70           0.010        0.0100\n",
       "15                                  0.75           0.010        0.0100\n",
       "16                                  0.80           0.010        0.0100\n",
       "17                                  0.85           0.010        0.0100\n",
       "18                                  0.90           0.010        0.0100\n",
       "19                                  0.95           0.010        0.0100"
      ]
     },
     "execution_count": 102,
     "metadata": {},
     "output_type": "execute_result"
    }
   ],
   "source": [
    "# definindo range de percent identities que testaremos\n",
    "percent_ids = np.arange(0.0, 1.0, 0.05)\n",
    "\n",
    "# definindo numero de random sequences que testaremos para cada percent identity\n",
    "num_trials = 20\n",
    "\n",
    "# definindo tamanho de sequencias que vamos trabalhar\n",
    "sequence_length = 150\n",
    "\n",
    "# definindo num_trials random sequences\n",
    "random_sequences = [random_sequence(skbio.DNA, sequence_length) for i in range(num_trials)]\n",
    "\n",
    "results = []\n",
    "\n",
    "for percent_id in percent_ids:\n",
    "    # para cada percentage identity, verificamos os p-values para cada trial/tentativa (random sequence)\n",
    "    p_values = []\n",
    "    for sequence in random_sequences:\n",
    "        # vamos randomizar parcialmente a sequencia e computar e guardar seu p-value\n",
    "        sequence_at_percent_id = partially_randomize_sequence(percent_id, sequence)\n",
    "        \n",
    "        p = fraction_better_or_equivalent_alignments(sequence, sequence_at_percent_id)\n",
    "        p_values.append(p)\n",
    "    results.append((percent_id, np.median(p_values), np.mean(p_values)))\n",
    "\n",
    "pd.DataFrame(results, columns = [\"Percent id between query and subject\", \"Median p-value\", \"Mean p-value\"])"
   ]
  },
  {
   "cell_type": "markdown",
   "id": "3541e949",
   "metadata": {},
   "source": [
    "Se tivermos sequências homólogas mas com muitas mutações entre elas, chegaremos no limite de detecção para busca dessas sequências. Nesse caso acima, esse limite ocorre por volta de 40% de mutações, olhando para mediana. Para casos com muitas mutações nos nucleotídeos, pode ser mais eficiente olhar o alinhamento de proteínas no lugar de nucleotídeos, pois podemos ter mutações em nucleotídeos que sao sinônimos, ou seja, o aminoácido não é modificado. Assim, teríamos menos substituições na sequência de proteínas do que na sequência de nucleotídeos, pelo fato de o código genético ser degenerado/redundante. Além disso, as substituições podem não modifiicar a estrutura da proteína por provocarem substituções por aminoácidos semelhantes. Então, olhando a estrutura das proteínas tambem conseguiríamos determinar se há evidência para homologia."
   ]
  }
 ],
 "metadata": {
  "kernelspec": {
   "display_name": "Python 3.8.10 64-bit",
   "language": "python",
   "name": "python3"
  },
  "language_info": {
   "codemirror_mode": {
    "name": "ipython",
    "version": 3
   },
   "file_extension": ".py",
   "mimetype": "text/x-python",
   "name": "python",
   "nbconvert_exporter": "python",
   "pygments_lexer": "ipython3",
   "version": "3.8.10"
  },
  "vscode": {
   "interpreter": {
    "hash": "916dbcbb3f70747c44a77c7bcd40155683ae19c65e1c03b4aa3499c5328201f1"
   }
  }
 },
 "nbformat": 4,
 "nbformat_minor": 5
}
